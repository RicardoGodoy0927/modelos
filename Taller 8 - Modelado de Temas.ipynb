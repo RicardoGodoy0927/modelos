{
 "cells": [
  {
   "cell_type": "markdown",
   "metadata": {},
   "source": [
    "<img src='https://encrypted-tbn0.gstatic.com/images?q=tbn%3AANd9GcQ-VfNtOyJbsaxu43Kztf_cv1mgBG6ZIQZEVw&usqp=CAU'>\n",
    "\n",
    "# Procesamiento de Lenguage Natural\n",
    "\n",
    "## Taller #8: Modelado de temas\n",
    "`Fecha de entrega: 🎃 Octubre 31, 2020. (Antes del inicio de la próxima clase).`\n",
    "\n",
    "`Modo de entrega: Subir link de GitHub al aula virtual.`"
   ]
  },
  {
   "cell_type": "code",
   "execution_count": 2,
   "metadata": {},
   "outputs": [
    {
     "name": "stderr",
     "output_type": "stream",
     "text": [
      "C:\\ProgramData\\Anaconda3\\lib\\site-packages\\scipy\\sparse\\sparsetools.py:21: DeprecationWarning: `scipy.sparse.sparsetools` is deprecated!\n",
      "scipy.sparse.sparsetools is a private module for scipy.sparse, and should not be used.\n",
      "  _deprecated()\n"
     ]
    }
   ],
   "source": [
    "import re\n",
    "import pandas as pd \n",
    "from pprint import pprint\n",
    "\n",
    "from nltk.corpus import stopwords\n",
    "stopwords = stopwords.words('spanish')\n",
    "\n",
    "import pyLDAvis.gensim\n",
    "from gensim.models import LdaModel\n",
    "from gensim.corpora import Dictionary\n",
    "\n",
    "import warnings\n",
    "warnings.filterwarnings(\"ignore\", category=DeprecationWarning)"
   ]
  },
  {
   "cell_type": "code",
   "execution_count": 3,
   "metadata": {},
   "outputs": [
    {
     "data": {
      "text/html": [
       "<div>\n",
       "<style scoped>\n",
       "    .dataframe tbody tr th:only-of-type {\n",
       "        vertical-align: middle;\n",
       "    }\n",
       "\n",
       "    .dataframe tbody tr th {\n",
       "        vertical-align: top;\n",
       "    }\n",
       "\n",
       "    .dataframe thead th {\n",
       "        text-align: right;\n",
       "    }\n",
       "</style>\n",
       "<table border=\"1\" class=\"dataframe\">\n",
       "  <thead>\n",
       "    <tr style=\"text-align: right;\">\n",
       "      <th></th>\n",
       "      <th>review_id</th>\n",
       "      <th>product_id</th>\n",
       "      <th>reviewer_id</th>\n",
       "      <th>stars</th>\n",
       "      <th>review_body</th>\n",
       "      <th>review_title</th>\n",
       "      <th>language</th>\n",
       "      <th>product_category</th>\n",
       "    </tr>\n",
       "  </thead>\n",
       "  <tbody>\n",
       "    <tr>\n",
       "      <th>0</th>\n",
       "      <td>es_0825565</td>\n",
       "      <td>product_es_0370490</td>\n",
       "      <td>reviewer_es_0174781</td>\n",
       "      <td>3</td>\n",
       "      <td>Buen. Buena calidad, y buena presentación.</td>\n",
       "      <td>Contenta</td>\n",
       "      <td>es</td>\n",
       "      <td>jewelry</td>\n",
       "    </tr>\n",
       "    <tr>\n",
       "      <th>1</th>\n",
       "      <td>es_0227934</td>\n",
       "      <td>product_es_0354224</td>\n",
       "      <td>reviewer_es_0411613</td>\n",
       "      <td>3</td>\n",
       "      <td>Un producto a perfecto, para salir de casa con...</td>\n",
       "      <td>Versatilidad</td>\n",
       "      <td>es</td>\n",
       "      <td>video_games</td>\n",
       "    </tr>\n",
       "    <tr>\n",
       "      <th>2</th>\n",
       "      <td>es_0468601</td>\n",
       "      <td>product_es_0665460</td>\n",
       "      <td>reviewer_es_0348315</td>\n",
       "      <td>1</td>\n",
       "      <td>No funciona con Nintendo Switch. No hay forma ...</td>\n",
       "      <td>Decepción absoluta</td>\n",
       "      <td>es</td>\n",
       "      <td>video_games</td>\n",
       "    </tr>\n",
       "    <tr>\n",
       "      <th>3</th>\n",
       "      <td>es_0814494</td>\n",
       "      <td>product_es_0692692</td>\n",
       "      <td>reviewer_es_0951508</td>\n",
       "      <td>5</td>\n",
       "      <td>Recomendado, los utilizo para pc y no me dan n...</td>\n",
       "      <td>Auriculares Pecham ps4</td>\n",
       "      <td>es</td>\n",
       "      <td>video_games</td>\n",
       "    </tr>\n",
       "    <tr>\n",
       "      <th>4</th>\n",
       "      <td>es_0206329</td>\n",
       "      <td>product_es_0728826</td>\n",
       "      <td>reviewer_es_0493255</td>\n",
       "      <td>4</td>\n",
       "      <td>El cable funciona bien podria ser un poco mas ...</td>\n",
       "      <td>Perfecto</td>\n",
       "      <td>es</td>\n",
       "      <td>video_games</td>\n",
       "    </tr>\n",
       "  </tbody>\n",
       "</table>\n",
       "</div>"
      ],
      "text/plain": [
       "    review_id          product_id          reviewer_id  stars  \\\n",
       "0  es_0825565  product_es_0370490  reviewer_es_0174781      3   \n",
       "1  es_0227934  product_es_0354224  reviewer_es_0411613      3   \n",
       "2  es_0468601  product_es_0665460  reviewer_es_0348315      1   \n",
       "3  es_0814494  product_es_0692692  reviewer_es_0951508      5   \n",
       "4  es_0206329  product_es_0728826  reviewer_es_0493255      4   \n",
       "\n",
       "                                         review_body            review_title  \\\n",
       "0         Buen. Buena calidad, y buena presentación.                Contenta   \n",
       "1  Un producto a perfecto, para salir de casa con...            Versatilidad   \n",
       "2  No funciona con Nintendo Switch. No hay forma ...      Decepción absoluta   \n",
       "3  Recomendado, los utilizo para pc y no me dan n...  Auriculares Pecham ps4   \n",
       "4  El cable funciona bien podria ser un poco mas ...                Perfecto   \n",
       "\n",
       "  language product_category  \n",
       "0       es          jewelry  \n",
       "1       es      video_games  \n",
       "2       es      video_games  \n",
       "3       es      video_games  \n",
       "4       es      video_games  "
      ]
     },
     "execution_count": 3,
     "metadata": {},
     "output_type": "execute_result"
    }
   ],
   "source": [
    "# Cargar datos\n",
    "path = 'C:/Users/57314/Documents/Especializacion/Segundo Semestre/Texto/dirchlet/reviews_vidjew_es.csv'\n",
    "data = pd.read_csv(path)\n",
    "data.head()"
   ]
  },
  {
   "cell_type": "markdown",
   "metadata": {},
   "source": [
    "###  `[12 pts]` Punto 1: Hacer pre-procesamiento del texto"
   ]
  },
  {
   "cell_type": "code",
   "execution_count": 4,
   "metadata": {},
   "outputs": [
    {
     "data": {
      "text/html": [
       "<div>\n",
       "<style scoped>\n",
       "    .dataframe tbody tr th:only-of-type {\n",
       "        vertical-align: middle;\n",
       "    }\n",
       "\n",
       "    .dataframe tbody tr th {\n",
       "        vertical-align: top;\n",
       "    }\n",
       "\n",
       "    .dataframe thead th {\n",
       "        text-align: right;\n",
       "    }\n",
       "</style>\n",
       "<table border=\"1\" class=\"dataframe\">\n",
       "  <thead>\n",
       "    <tr style=\"text-align: right;\">\n",
       "      <th></th>\n",
       "      <th>review_id</th>\n",
       "      <th>product_id</th>\n",
       "      <th>reviewer_id</th>\n",
       "      <th>stars</th>\n",
       "      <th>review_body</th>\n",
       "      <th>review_title</th>\n",
       "      <th>language</th>\n",
       "      <th>product_category</th>\n",
       "      <th>Pre-Processed</th>\n",
       "    </tr>\n",
       "  </thead>\n",
       "  <tbody>\n",
       "    <tr>\n",
       "      <th>0</th>\n",
       "      <td>es_0825565</td>\n",
       "      <td>product_es_0370490</td>\n",
       "      <td>reviewer_es_0174781</td>\n",
       "      <td>3</td>\n",
       "      <td>Buen. Buena calidad, y buena presentación.</td>\n",
       "      <td>Contenta</td>\n",
       "      <td>es</td>\n",
       "      <td>jewelry</td>\n",
       "      <td>[buen, buena, calidad, buena, presentación]</td>\n",
       "    </tr>\n",
       "    <tr>\n",
       "      <th>1</th>\n",
       "      <td>es_0227934</td>\n",
       "      <td>product_es_0354224</td>\n",
       "      <td>reviewer_es_0411613</td>\n",
       "      <td>3</td>\n",
       "      <td>Un producto a perfecto, para salir de casa con...</td>\n",
       "      <td>Versatilidad</td>\n",
       "      <td>es</td>\n",
       "      <td>video_games</td>\n",
       "      <td>[producto, perfecto, salir, casa, nintendo, sw...</td>\n",
       "    </tr>\n",
       "    <tr>\n",
       "      <th>2</th>\n",
       "      <td>es_0468601</td>\n",
       "      <td>product_es_0665460</td>\n",
       "      <td>reviewer_es_0348315</td>\n",
       "      <td>1</td>\n",
       "      <td>No funciona con Nintendo Switch. No hay forma ...</td>\n",
       "      <td>Decepción absoluta</td>\n",
       "      <td>es</td>\n",
       "      <td>video_games</td>\n",
       "      <td>[funciona, nintendo, switch, forma, emparejarl...</td>\n",
       "    </tr>\n",
       "    <tr>\n",
       "      <th>3</th>\n",
       "      <td>es_0814494</td>\n",
       "      <td>product_es_0692692</td>\n",
       "      <td>reviewer_es_0951508</td>\n",
       "      <td>5</td>\n",
       "      <td>Recomendado, los utilizo para pc y no me dan n...</td>\n",
       "      <td>Auriculares Pecham ps4</td>\n",
       "      <td>es</td>\n",
       "      <td>video_games</td>\n",
       "      <td>[recomendado, utilizo, pc, dan, ningún, proble...</td>\n",
       "    </tr>\n",
       "    <tr>\n",
       "      <th>4</th>\n",
       "      <td>es_0206329</td>\n",
       "      <td>product_es_0728826</td>\n",
       "      <td>reviewer_es_0493255</td>\n",
       "      <td>4</td>\n",
       "      <td>El cable funciona bien podria ser un poco mas ...</td>\n",
       "      <td>Perfecto</td>\n",
       "      <td>es</td>\n",
       "      <td>video_games</td>\n",
       "      <td>[cable, funciona, bien, podria, ser, mas, larg...</td>\n",
       "    </tr>\n",
       "  </tbody>\n",
       "</table>\n",
       "</div>"
      ],
      "text/plain": [
       "    review_id          product_id          reviewer_id  stars  \\\n",
       "0  es_0825565  product_es_0370490  reviewer_es_0174781      3   \n",
       "1  es_0227934  product_es_0354224  reviewer_es_0411613      3   \n",
       "2  es_0468601  product_es_0665460  reviewer_es_0348315      1   \n",
       "3  es_0814494  product_es_0692692  reviewer_es_0951508      5   \n",
       "4  es_0206329  product_es_0728826  reviewer_es_0493255      4   \n",
       "\n",
       "                                         review_body            review_title  \\\n",
       "0         Buen. Buena calidad, y buena presentación.                Contenta   \n",
       "1  Un producto a perfecto, para salir de casa con...            Versatilidad   \n",
       "2  No funciona con Nintendo Switch. No hay forma ...      Decepción absoluta   \n",
       "3  Recomendado, los utilizo para pc y no me dan n...  Auriculares Pecham ps4   \n",
       "4  El cable funciona bien podria ser un poco mas ...                Perfecto   \n",
       "\n",
       "  language product_category                                      Pre-Processed  \n",
       "0       es          jewelry        [buen, buena, calidad, buena, presentación]  \n",
       "1       es      video_games  [producto, perfecto, salir, casa, nintendo, sw...  \n",
       "2       es      video_games  [funciona, nintendo, switch, forma, emparejarl...  \n",
       "3       es      video_games  [recomendado, utilizo, pc, dan, ningún, proble...  \n",
       "4       es      video_games  [cable, funciona, bien, podria, ser, mas, larg...  "
      ]
     },
     "execution_count": 4,
     "metadata": {},
     "output_type": "execute_result"
    }
   ],
   "source": [
    "def pre_procesado(texto):\n",
    "    texto = texto.lower()\n",
    "    texto = re.sub(r\"[\\W\\d_]+\", \" \", texto)\n",
    "    texto = [palabra for palabra in texto.split() if palabra not in stopwords]\n",
    "    return texto\n",
    "\n",
    "data['Pre-Processed'] = data['review_body'].apply(lambda texto: pre_procesado(texto))\n",
    "\n",
    "data.head()"
   ]
  },
  {
   "cell_type": "markdown",
   "metadata": {},
   "source": [
    "###  `[13 pts]` Punto 2: Modelo de LDA"
   ]
  },
  {
   "cell_type": "code",
   "execution_count": 5,
   "metadata": {},
   "outputs": [
    {
     "name": "stdout",
     "output_type": "stream",
     "text": [
      "Requirement already satisfied: pyLDAvis in c:\\programdata\\anaconda3\\lib\\site-packages (2.1.2)\n",
      "Requirement already satisfied: wheel>=0.23.0 in c:\\programdata\\anaconda3\\lib\\site-packages (from pyLDAvis) (0.34.2)\n",
      "Requirement already satisfied: pandas>=0.17.0 in c:\\programdata\\anaconda3\\lib\\site-packages (from pyLDAvis) (1.0.1)\n",
      "Requirement already satisfied: future in c:\\programdata\\anaconda3\\lib\\site-packages (from pyLDAvis) (0.18.2)\n",
      "Requirement already satisfied: jinja2>=2.7.2 in c:\\programdata\\anaconda3\\lib\\site-packages (from pyLDAvis) (2.11.1)\n",
      "Requirement already satisfied: numexpr in c:\\programdata\\anaconda3\\lib\\site-packages (from pyLDAvis) (2.7.1)\n",
      "Requirement already satisfied: scipy>=0.18.0 in c:\\programdata\\anaconda3\\lib\\site-packages (from pyLDAvis) (1.4.1)\n",
      "Requirement already satisfied: numpy>=1.9.2 in c:\\programdata\\anaconda3\\lib\\site-packages (from pyLDAvis) (1.18.1)\n",
      "Requirement already satisfied: funcy in c:\\programdata\\anaconda3\\lib\\site-packages (from pyLDAvis) (1.15)\n",
      "Requirement already satisfied: pytest in c:\\programdata\\anaconda3\\lib\\site-packages (from pyLDAvis) (5.3.5)\n",
      "Requirement already satisfied: joblib>=0.8.4 in c:\\programdata\\anaconda3\\lib\\site-packages (from pyLDAvis) (0.14.1)\n",
      "Requirement already satisfied: pytz>=2017.2 in c:\\programdata\\anaconda3\\lib\\site-packages (from pandas>=0.17.0->pyLDAvis) (2019.3)\n",
      "Requirement already satisfied: python-dateutil>=2.6.1 in c:\\programdata\\anaconda3\\lib\\site-packages (from pandas>=0.17.0->pyLDAvis) (2.8.1)\n",
      "Requirement already satisfied: MarkupSafe>=0.23 in c:\\programdata\\anaconda3\\lib\\site-packages (from jinja2>=2.7.2->pyLDAvis) (1.1.1)\n",
      "Requirement already satisfied: py>=1.5.0 in c:\\programdata\\anaconda3\\lib\\site-packages (from pytest->pyLDAvis) (1.8.1)\n",
      "Requirement already satisfied: packaging in c:\\programdata\\anaconda3\\lib\\site-packages (from pytest->pyLDAvis) (20.1)\n",
      "Requirement already satisfied: attrs>=17.4.0 in c:\\programdata\\anaconda3\\lib\\site-packages (from pytest->pyLDAvis) (19.3.0)\n",
      "Requirement already satisfied: more-itertools>=4.0.0 in c:\\programdata\\anaconda3\\lib\\site-packages (from pytest->pyLDAvis) (8.2.0)\n",
      "Requirement already satisfied: pluggy<1.0,>=0.12 in c:\\programdata\\anaconda3\\lib\\site-packages (from pytest->pyLDAvis) (0.13.1)\n",
      "Requirement already satisfied: wcwidth in c:\\programdata\\anaconda3\\lib\\site-packages (from pytest->pyLDAvis) (0.1.8)\n",
      "Requirement already satisfied: importlib-metadata>=0.12 in c:\\programdata\\anaconda3\\lib\\site-packages (from pytest->pyLDAvis) (1.5.0)\n",
      "Requirement already satisfied: atomicwrites>=1.0 in c:\\programdata\\anaconda3\\lib\\site-packages (from pytest->pyLDAvis) (1.3.0)\n",
      "Requirement already satisfied: colorama in c:\\programdata\\anaconda3\\lib\\site-packages (from pytest->pyLDAvis) (0.4.3)\n",
      "Requirement already satisfied: six>=1.5 in c:\\programdata\\anaconda3\\lib\\site-packages (from python-dateutil>=2.6.1->pandas>=0.17.0->pyLDAvis) (1.14.0)\n",
      "Requirement already satisfied: pyparsing>=2.0.2 in c:\\programdata\\anaconda3\\lib\\site-packages (from packaging->pytest->pyLDAvis) (2.4.6)\n",
      "Requirement already satisfied: zipp>=0.5 in c:\\programdata\\anaconda3\\lib\\site-packages (from importlib-metadata>=0.12->pytest->pyLDAvis) (2.2.0)\n"
     ]
    }
   ],
   "source": [
    "# Crear una representación de los documentos en forma de diccionario\n",
    "\n",
    "\n",
    "# Filtrar palabras muy frecuentes o infrecuentes\n",
    "\n",
    "\n",
    "\n",
    "#Train the topic model\n",
    "\n",
    "! pip install pyLDAvis\n",
    "import pyLDAvis.gensim\n",
    "from gensim.models import LdaModel\n",
    "from gensim.corpora import Dictionary\n",
    "from pprint import pprint\n"
   ]
  },
  {
   "cell_type": "code",
   "execution_count": 9,
   "metadata": {},
   "outputs": [],
   "source": [
    "# Crear una representación de los documentos en forma de diccionario\n",
    "dictionary = Dictionary(data['Pre-Processed'].values)\n",
    "\n",
    "# Filtrar palabras muy frecuentes o infrecuentes\n",
    "dictionary.filter_extremes(no_below=5, no_above=0.5)\n",
    "\n",
    "corpus = [dictionary.doc2bow(text) for text in data['Pre-Processed'].values]\n",
    "\n",
    "# Train the topic model\n",
    "model = LdaModel(corpus=corpus, id2word=dictionary, num_topics=4, passes=50)"
   ]
  },
  {
   "cell_type": "code",
   "execution_count": 10,
   "metadata": {},
   "outputs": [
    {
     "data": {
      "text/plain": [
       "[(0,\n",
       "  '0.036*\"producto\" + 0.034*\"perfecto\" + 0.020*\"buen\" + 0.019*\"tiempo\" + 0.018*\"llego\" + 0.015*\"cumple\" + 0.014*\"llegado\" + 0.013*\"perfectamente\" + 0.013*\"compra\" + 0.013*\"llegó\" + 0.012*\"roto\" + 0.012*\"precio\" + 0.012*\"bien\" + 0.010*\"regalo\" + 0.010*\"gracias\"'),\n",
       " (1,\n",
       "  '0.040*\"juego\" + 0.030*\"si\" + 0.029*\"calidad\" + 0.019*\"buena\" + 0.015*\"jugar\" + 0.015*\"precio\" + 0.014*\"mando\" + 0.013*\"ps\" + 0.013*\"pena\" + 0.012*\"mas\" + 0.012*\"mejor\" + 0.011*\"original\" + 0.010*\"juegos\" + 0.010*\"producto\" + 0.010*\"después\"'),\n",
       " (2,\n",
       "  '0.071*\"bien\" + 0.031*\"bonito\" + 0.028*\"calidad\" + 0.020*\"regalo\" + 0.018*\"bastante\" + 0.016*\"cadena\" + 0.015*\"queda\" + 0.014*\"precio\" + 0.013*\"grande\" + 0.013*\"pequeño\" + 0.012*\"colgante\" + 0.012*\"bonita\" + 0.012*\"tamaño\" + 0.012*\"plata\" + 0.011*\"foto\"'),\n",
       " (3,\n",
       "  '0.021*\"precio\" + 0.018*\"bonitos\" + 0.017*\"si\" + 0.017*\"parece\" + 0.016*\"día\" + 0.015*\"esperaba\" + 0.014*\"solo\" + 0.014*\"foto\" + 0.014*\"mas\" + 0.014*\"caja\" + 0.012*\"puede\" + 0.011*\"producto\" + 0.011*\"llegó\" + 0.010*\"aunque\" + 0.010*\"gustado\"')]"
      ]
     },
     "execution_count": 10,
     "metadata": {},
     "output_type": "execute_result"
    }
   ],
   "source": [
    "model.print_topics(num_words=15)"
   ]
  },
  {
   "cell_type": "markdown",
   "metadata": {},
   "source": [
    "###  `[25 pts]` Punto 3: Visualización de LDA"
   ]
  },
  {
   "cell_type": "code",
   "execution_count": 11,
   "metadata": {},
   "outputs": [
    {
     "data": {
      "text/html": [
       "\n",
       "<link rel=\"stylesheet\" type=\"text/css\" href=\"https://cdn.rawgit.com/bmabey/pyLDAvis/files/ldavis.v1.0.0.css\">\n",
       "\n",
       "\n",
       "<div id=\"ldavis_el2294418050722152404498351774\"></div>\n",
       "<script type=\"text/javascript\">\n",
       "\n",
       "var ldavis_el2294418050722152404498351774_data = {\"mdsDat\": {\"x\": [-0.15268457436138202, -0.07160917053482382, 0.18183555960916814, 0.042458185287037487], \"y\": [-0.1364822780092804, 0.12008010702915577, -0.09281497905329542, 0.10921715003341999], \"topics\": [1, 2, 3, 4], \"cluster\": [1, 1, 1, 1], \"Freq\": [20.909420013427734, 29.165252685546875, 26.353349685668945, 23.571971893310547]}, \"tinfo\": {\"Term\": [\"bien\", \"bonito\", \"perfecto\", \"juego\", \"producto\", \"llego\", \"cadena\", \"jugar\", \"si\", \"bonitos\", \"cumple\", \"tiempo\", \"bastante\", \"parece\", \"ps\", \"regalo\", \"queda\", \"esperaba\", \"colgante\", \"roto\", \"compra\", \"grande\", \"bonita\", \"pena\", \"solo\", \"peque\\u00f1o\", \"juegos\", \"lleg\\u00f3\", \"pulsera\", \"perfectamente\", \"cumple\", \"roto\", \"carga\", \"expectativas\", \"rapido\", \"toda\", \"fatal\", \"par\", \"auriculares\", \"lado\", \"jugando\", \"funcionan\", \"recomendado\", \"perfecto\", \"negro\", \"semanas\", \"funci\\u00f3n\", \"opinar\", \"venido\", \"familia\", \"\\u00fanica\", \"entra\", \"llego\", \"acero\", \"envio\", \"contento\", \"acabado\", \"hijo\", \"\\u00fanico\", \"contenta\", \"tiempo\", \"correcto\", \"gracias\", \"todas\", \"puedo\", \"producto\", \"igual\", \"compra\", \"buen\", \"recomendable\", \"perfectamente\", \"art\\u00edculo\", \"nuevo\", \"llegado\", \"vendedor\", \"lleg\\u00f3\", \"momento\", \"pulsera\", \"dos\", \"regalo\", \"precio\", \"bien\", \"juego\", \"calidad\", \"jugar\", \"ps\", \"juegos\", \"puedes\", \"xbox\", \"historia\", \"poder\", \"edici\\u00f3n\", \"ideal\", \"modo\", \"voy\", \"utilizar\", \"gr\\u00e1ficos\", \"entretenido\", \"dicen\", \"pulseras\", \"cuenta\", \"pena\", \"tipo\", \"one\", \"merece\", \"compras\", \"doy\", \"quieres\", \"siendo\", \"base\", \"aceptable\", \"deber\\u00eda\", \"ingles\", \"gente\", \"paquete\", \"juego\", \"despu\\u00e9s\", \"original\", \"mejor\", \"espa\\u00f1ol\", \"si\", \"buena\", \"mando\", \"mala\", \"estrellas\", \"calidad\", \"pueden\", \"viene\", \"comprar\", \"amazon\", \"mas\", \"precio\", \"solo\", \"recibido\", \"caja\", \"puede\", \"tener\", \"vale\", \"producto\", \"as\\u00ed\", \"bastante\", \"perfectamente\", \"mal\", \"funciona\", \"aunque\", \"buen\", \"bonito\", \"cadena\", \"colgante\", \"collar\", \"color\", \"mujer\", \"todav\\u00eda\", \"aparece\", \"encant\\u00f3\", \"bonita\", \"elegante\", \"cajita\", \"fino\", \"precioso\", \"parecido\", \"elegantes\", \"rat\\u00f3n\", \"pandora\", \"bolsita\", \"rosa\", \"cerrar\", \"adecuado\", \"grande\", \"opini\\u00f3n\", \"ningun\", \"certificado\", \"cuesta\", \"piedra\", \"fina\", \"peque\\u00f1o\", \"queda\", \"bien\", \"quedan\", \"dise\\u00f1o\", \"bastante\", \"regalo\", \"tama\\u00f1o\", \"plata\", \"ve\", \"tal\", \"calidad\", \"pulsera\", \"pendientes\", \"demasiado\", \"foto\", \"llegado\", \"parece\", \"precio\", \"dos\", \"buena\", \"viene\", \"si\", \"barato\", \"devuelto\", \"sigue\", \"baja\", \"rompi\\u00f3\", \"principio\", \"genial\", \"correctamente\", \"vino\", \"mismo\", \"saga\", \"cierra\", \"brillo\", \"ponen\", \"p\\u00e9simo\", \"fan\", \"primera\", \"ven\", \"apenas\", \"media\", \"usado\", \"ver\", \"pensaba\", \"luego\", \"aspecto\", \"cosa\", \"bonitos\", \"realmente\", \"marca\", \"duda\", \"esperaba\", \"parece\", \"d\\u00eda\", \"entrega\", \"solo\", \"pl\\u00e1stico\", \"bueno\", \"caja\", \"foto\", \"tan\", \"gustado\", \"precio\", \"mas\", \"puede\", \"lleg\\u00f3\", \"aunque\", \"si\", \"pedir\", \"grandes\", \"material\", \"producto\", \"mando\", \"as\\u00ed\", \"pendientes\", \"compra\", \"bien\", \"demasiado\", \"juego\"], \"Freq\": [184.0, 63.0, 59.0, 117.0, 105.0, 33.0, 32.0, 33.0, 112.0, 39.0, 24.0, 42.0, 53.0, 48.0, 29.0, 61.0, 35.0, 34.0, 25.0, 19.0, 33.0, 29.0, 25.0, 30.0, 46.0, 29.0, 23.0, 43.0, 37.0, 37.0, 23.67511749267578, 18.995182037353516, 14.206563949584961, 11.502387046813965, 10.554786682128906, 9.597748756408691, 7.735809326171875, 7.722876071929932, 7.700894355773926, 7.695342540740967, 6.804189682006836, 6.792392253875732, 6.763178825378418, 53.17757797241211, 6.724035739898682, 5.8469367027282715, 5.823854923248291, 4.927953243255615, 4.923999786376953, 4.917350769042969, 4.9146904945373535, 4.902677059173584, 28.709211349487305, 4.709030628204346, 12.037843704223633, 7.415280342102051, 7.994393348693848, 12.227187156677246, 7.902251720428467, 9.309807777404785, 30.850439071655273, 13.248867988586426, 15.686800956726074, 13.18395709991455, 15.558712005615234, 56.66048049926758, 12.7236967086792, 20.6486759185791, 31.150957107543945, 12.654979705810547, 20.969528198242188, 12.140116691589355, 10.854353904724121, 22.441179275512695, 12.424369812011719, 19.94468879699707, 12.347023963928223, 15.197407722473145, 13.517169952392578, 15.84292984008789, 18.64430809020996, 18.4868221282959, 15.376748085021973, 15.29771614074707, 33.056556701660156, 28.348020553588867, 22.722232818603516, 13.33315372467041, 11.483503341674805, 9.605591773986816, 8.672730445861816, 8.663559913635254, 8.650242805480957, 7.732438564300537, 7.72137975692749, 7.7127861976623535, 6.79279899597168, 6.790327072143555, 6.784974098205566, 6.775734901428223, 6.767400741577148, 27.84896469116211, 5.855065822601318, 5.851507663726807, 5.851085662841797, 5.849326133728027, 5.847761631011963, 5.84576940536499, 5.844263553619385, 5.832854270935059, 5.816200256347656, 7.428520202636719, 4.92164421081543, 4.917517185211182, 11.82235050201416, 87.9765396118164, 21.589414596557617, 24.113237380981445, 26.362716674804688, 14.157596588134766, 65.95814514160156, 41.26441955566406, 30.407737731933594, 16.476696014404297, 10.108360290527344, 64.06138610839844, 11.090614318847656, 20.93988800048828, 14.88907241821289, 18.09722137451172, 26.766542434692383, 32.70903396606445, 19.101125717163086, 10.465081214904785, 18.558561325073242, 18.260927200317383, 11.667695045471191, 11.859272003173828, 22.322208404541016, 15.499195098876953, 16.261619567871094, 14.344730377197266, 13.724164962768555, 13.500773429870605, 13.909553527832031, 14.157029151916504, 62.13523483276367, 31.44015121459961, 24.14081573486328, 15.043933868408203, 20.113033294677734, 11.341472625732422, 11.339950561523438, 11.316119194030762, 10.409236907958984, 24.102144241333008, 8.53460693359375, 7.639693260192871, 7.638659954071045, 6.714017868041992, 6.704005241394043, 6.69116735458374, 8.331666946411133, 8.326478958129883, 5.788601875305176, 5.783742904663086, 5.768648624420166, 5.757993698120117, 26.05907440185547, 4.851410388946533, 5.658798694610596, 4.845508575439453, 4.84516716003418, 8.730660438537598, 12.641510009765625, 25.103294372558594, 29.584203720092773, 141.75987243652344, 17.537071228027344, 15.317924499511719, 36.253692626953125, 39.33258819580078, 23.582115173339844, 23.34074592590332, 15.31403923034668, 18.901824951171875, 54.882171630859375, 21.00281524658203, 16.082550048828125, 16.024629592895508, 22.581153869628906, 19.69710350036621, 18.625072479248047, 27.511213302612305, 15.511234283447266, 17.417020797729492, 13.899833679199219, 15.580217361450195, 10.65594482421875, 9.696197509765625, 8.754514694213867, 8.750699043273926, 8.747562408447266, 8.71289348602295, 7.8107075691223145, 7.765958786010742, 8.617463111877441, 16.329099655151367, 10.281801223754883, 6.854535102844238, 6.850424289703369, 5.918509006500244, 5.902785301208496, 5.901033401489258, 5.899679183959961, 5.897846221923828, 5.8713274002075195, 4.969791889190674, 4.964033126831055, 13.217848777770996, 4.956302642822266, 11.482510566711426, 11.468241691589355, 14.4442777633667, 31.49853515625, 6.7535295486450195, 6.691605091094971, 6.613916397094727, 26.73792266845703, 29.65715789794922, 28.532663345336914, 15.46576976776123, 25.340362548828125, 12.532304763793945, 15.776895523071289, 24.722204208374023, 25.315534591674805, 14.313729286193848, 17.790199279785156, 37.52202224731445, 25.27168083190918, 21.514404296875, 18.781702041625977, 18.731983184814453, 30.91108512878418, 12.317398071289062, 12.592663764953613, 11.705586433410645, 20.407611846923828, 15.02066707611084, 13.574891090393066, 12.448989868164062, 12.787230491638184, 15.484903335571289, 12.387907028198242, 13.81163501739502], \"Total\": [184.0, 63.0, 59.0, 117.0, 105.0, 33.0, 32.0, 33.0, 112.0, 39.0, 24.0, 42.0, 53.0, 48.0, 29.0, 61.0, 35.0, 34.0, 25.0, 19.0, 33.0, 29.0, 25.0, 30.0, 46.0, 29.0, 23.0, 43.0, 37.0, 37.0, 24.4138126373291, 19.71837043762207, 15.02412223815918, 12.206340789794922, 11.267202377319336, 10.327768325805664, 8.449875831604004, 8.449816703796387, 8.449645042419434, 8.449318885803223, 7.510980129241943, 7.510804176330566, 7.510509014129639, 59.15461730957031, 7.5096611976623535, 6.571498870849609, 6.571368217468262, 5.632925987243652, 5.632875919342041, 5.632683753967285, 5.632593631744385, 5.632328510284424, 33.7463264465332, 5.629823207855225, 14.99306583404541, 9.400782585144043, 10.31364631652832, 15.95884895324707, 10.324705123901367, 12.177079200744629, 42.17536926269531, 17.875144958496094, 21.568410873413086, 17.876615524291992, 21.590442657470703, 105.26011657714844, 17.879497528076172, 33.92074966430664, 61.07746887207031, 18.730052947998047, 37.521663665771484, 17.77440071105957, 15.904151916503906, 50.47998809814453, 19.74785614013672, 43.36248016357422, 21.56776237487793, 37.28132247924805, 39.22294998168945, 61.50604248046875, 116.38658142089844, 184.16683959960938, 117.40999603271484, 143.89764404296875, 33.7684326171875, 29.07830810546875, 23.44995880126953, 14.069416046142578, 12.193836212158203, 10.31779956817627, 9.379796981811523, 9.37973403930664, 9.379188537597656, 8.441737174987793, 8.441777229309082, 8.441353797912598, 7.503682613372803, 7.50364351272583, 7.503584861755371, 7.503247261047363, 7.503726005554199, 30.973636627197266, 6.565687656402588, 6.565634727478027, 6.56561803817749, 6.565608978271484, 6.565488815307617, 6.565574645996094, 6.565528392791748, 6.565169811248779, 6.5648393630981445, 8.444769859313965, 5.627725601196289, 5.627673149108887, 14.085443496704102, 117.40999603271484, 27.253265380859375, 31.93035888671875, 35.59261703491211, 17.851884841918945, 112.69241333007812, 65.45662689208984, 52.68719482421875, 24.314247131347656, 13.103547096252441, 143.89764404296875, 15.010886192321777, 38.29344177246094, 25.322402954101562, 34.79131317138672, 64.85001373291016, 116.38658142089844, 46.22462463378906, 15.037646293640137, 47.11357879638672, 50.744598388671875, 18.76654052734375, 19.772480010986328, 105.26011657714844, 40.38208770751953, 53.02397537231445, 37.521663665771484, 36.563289642333984, 34.828250885009766, 43.21637725830078, 61.07746887207031, 63.02597427368164, 32.446712493896484, 25.03414535522461, 15.763867378234863, 21.32963752746582, 12.05724048614502, 12.057212829589844, 12.057531356811523, 11.130576133728027, 25.98016929626465, 9.277708053588867, 8.350712776184082, 8.350651741027832, 7.424072742462158, 7.424149036407471, 7.424511909484863, 9.281940460205078, 9.280491828918457, 6.497463703155518, 6.497389793395996, 6.497382640838623, 6.497552394866943, 29.728857040405273, 5.5708208084106445, 6.498502731323242, 5.570861339569092, 5.570967197418213, 10.213162422180176, 14.857315063476562, 29.751052856445312, 35.2834358215332, 184.16683959960938, 22.34172248840332, 19.513591766357422, 53.02397537231445, 61.50604248046875, 34.52518844604492, 34.442142486572266, 22.363454818725586, 29.872310638427734, 143.89764404296875, 37.28132247924805, 29.0101375579834, 29.01005744934082, 52.51763916015625, 50.47998809814453, 48.85620880126953, 116.38658142089844, 39.22294998168945, 65.45662689208984, 38.29344177246094, 112.69241333007812, 11.364110946655273, 10.41581916809082, 9.468206405639648, 9.467986106872559, 9.46788215637207, 9.467254638671875, 8.520437240600586, 8.519657135009766, 9.465044021606445, 17.983665466308594, 11.355598449707031, 7.572171211242676, 7.5720534324646, 6.624760627746582, 6.624425888061523, 6.624253749847412, 6.624199867248535, 6.624022006988525, 6.623603343963623, 5.6768798828125, 5.676758766174316, 15.128031730651855, 5.676658630371094, 13.249488830566406, 13.247997283935547, 17.031330108642578, 39.63002395629883, 8.50908374786377, 8.509764671325684, 8.493302345275879, 34.89014434814453, 48.85620880126953, 48.919464111328125, 23.616132736206055, 46.22462463378906, 18.818979263305664, 25.49395751953125, 47.11357879638672, 52.51763916015625, 23.492149353027344, 32.85252380371094, 116.38658142089844, 64.85001373291016, 50.744598388671875, 43.36248016357422, 43.21637725830078, 112.69241333007812, 20.765213012695312, 24.396728515625, 20.706138610839844, 105.26011657714844, 52.68719482421875, 40.38208770751953, 29.0101375579834, 33.92074966430664, 184.16683959960938, 29.01005744934082, 117.40999603271484], \"Category\": [\"Default\", \"Default\", \"Default\", \"Default\", \"Default\", \"Default\", \"Default\", \"Default\", \"Default\", \"Default\", \"Default\", \"Default\", \"Default\", \"Default\", \"Default\", \"Default\", \"Default\", \"Default\", \"Default\", \"Default\", \"Default\", \"Default\", \"Default\", \"Default\", \"Default\", \"Default\", \"Default\", \"Default\", \"Default\", \"Default\", \"Topic1\", \"Topic1\", \"Topic1\", \"Topic1\", \"Topic1\", \"Topic1\", \"Topic1\", \"Topic1\", \"Topic1\", \"Topic1\", \"Topic1\", \"Topic1\", \"Topic1\", \"Topic1\", \"Topic1\", \"Topic1\", \"Topic1\", \"Topic1\", \"Topic1\", \"Topic1\", \"Topic1\", \"Topic1\", \"Topic1\", \"Topic1\", \"Topic1\", \"Topic1\", \"Topic1\", \"Topic1\", \"Topic1\", \"Topic1\", \"Topic1\", \"Topic1\", \"Topic1\", \"Topic1\", \"Topic1\", \"Topic1\", \"Topic1\", \"Topic1\", \"Topic1\", \"Topic1\", \"Topic1\", \"Topic1\", \"Topic1\", \"Topic1\", \"Topic1\", \"Topic1\", \"Topic1\", \"Topic1\", \"Topic1\", \"Topic1\", \"Topic1\", \"Topic1\", \"Topic1\", \"Topic1\", \"Topic2\", \"Topic2\", \"Topic2\", \"Topic2\", \"Topic2\", \"Topic2\", \"Topic2\", \"Topic2\", \"Topic2\", \"Topic2\", \"Topic2\", \"Topic2\", \"Topic2\", \"Topic2\", \"Topic2\", \"Topic2\", \"Topic2\", \"Topic2\", \"Topic2\", \"Topic2\", \"Topic2\", \"Topic2\", \"Topic2\", \"Topic2\", \"Topic2\", \"Topic2\", \"Topic2\", \"Topic2\", \"Topic2\", \"Topic2\", \"Topic2\", \"Topic2\", \"Topic2\", \"Topic2\", \"Topic2\", \"Topic2\", \"Topic2\", \"Topic2\", \"Topic2\", \"Topic2\", \"Topic2\", \"Topic2\", \"Topic2\", \"Topic2\", \"Topic2\", \"Topic2\", \"Topic2\", \"Topic2\", \"Topic2\", \"Topic2\", \"Topic2\", \"Topic2\", \"Topic2\", \"Topic2\", \"Topic2\", \"Topic2\", \"Topic2\", \"Topic2\", \"Topic2\", \"Topic2\", \"Topic2\", \"Topic2\", \"Topic3\", \"Topic3\", \"Topic3\", \"Topic3\", \"Topic3\", \"Topic3\", \"Topic3\", \"Topic3\", \"Topic3\", \"Topic3\", \"Topic3\", \"Topic3\", \"Topic3\", \"Topic3\", \"Topic3\", \"Topic3\", \"Topic3\", \"Topic3\", \"Topic3\", \"Topic3\", \"Topic3\", \"Topic3\", \"Topic3\", \"Topic3\", \"Topic3\", \"Topic3\", \"Topic3\", \"Topic3\", \"Topic3\", \"Topic3\", \"Topic3\", \"Topic3\", \"Topic3\", \"Topic3\", \"Topic3\", \"Topic3\", \"Topic3\", \"Topic3\", \"Topic3\", \"Topic3\", \"Topic3\", \"Topic3\", \"Topic3\", \"Topic3\", \"Topic3\", \"Topic3\", \"Topic3\", \"Topic3\", \"Topic3\", \"Topic3\", \"Topic3\", \"Topic3\", \"Topic4\", \"Topic4\", \"Topic4\", \"Topic4\", \"Topic4\", \"Topic4\", \"Topic4\", \"Topic4\", \"Topic4\", \"Topic4\", \"Topic4\", \"Topic4\", \"Topic4\", \"Topic4\", \"Topic4\", \"Topic4\", \"Topic4\", \"Topic4\", \"Topic4\", \"Topic4\", \"Topic4\", \"Topic4\", \"Topic4\", \"Topic4\", \"Topic4\", \"Topic4\", \"Topic4\", \"Topic4\", \"Topic4\", \"Topic4\", \"Topic4\", \"Topic4\", \"Topic4\", \"Topic4\", \"Topic4\", \"Topic4\", \"Topic4\", \"Topic4\", \"Topic4\", \"Topic4\", \"Topic4\", \"Topic4\", \"Topic4\", \"Topic4\", \"Topic4\", \"Topic4\", \"Topic4\", \"Topic4\", \"Topic4\", \"Topic4\", \"Topic4\", \"Topic4\", \"Topic4\", \"Topic4\", \"Topic4\", \"Topic4\", \"Topic4\", \"Topic4\"], \"logprob\": [30.0, 29.0, 28.0, 27.0, 26.0, 25.0, 24.0, 23.0, 22.0, 21.0, 20.0, 19.0, 18.0, 17.0, 16.0, 15.0, 14.0, 13.0, 12.0, 11.0, 10.0, 9.0, 8.0, 7.0, 6.0, 5.0, 4.0, 3.0, 2.0, 1.0, -4.202400207519531, -4.422699928283691, -4.713099956512451, -4.924300193786621, -5.010300159454346, -5.105299949645996, -5.321000099182129, -5.322700023651123, -5.325500011444092, -5.326200008392334, -5.4492998123168945, -5.451000213623047, -5.455399990081787, -3.393199920654297, -5.46120023727417, -5.600900173187256, -5.604899883270264, -5.771900177001953, -5.77269983291626, -5.774099826812744, -5.774600028991699, -5.777100086212158, -4.0096001625061035, -5.817399978637695, -4.878799915313721, -5.36329984664917, -5.288099765777588, -4.8632001876831055, -5.299699783325195, -5.135799884796143, -3.937700033187866, -4.782899856567383, -4.613999843597412, -4.787799835205078, -4.622200012207031, -3.3297998905181885, -4.823400020599365, -4.339200019836426, -3.927999973297119, -4.828800201416016, -4.323800086975098, -4.870299816131592, -4.9822998046875, -4.255899906158447, -4.8471999168396, -4.373899936676025, -4.853400230407715, -4.645699977874756, -4.762899875640869, -4.604100227355957, -4.441299915313721, -4.44980001449585, -4.633999824523926, -4.639100074768066, -4.201399803161621, -4.355100154876709, -4.576300144195557, -5.109399795532227, -5.258699893951416, -5.437300205230713, -5.539400100708008, -5.540500164031982, -5.541999816894531, -5.654200077056885, -5.655600070953369, -5.656700134277344, -5.78380012512207, -5.78410005569458, -5.784900188446045, -5.786300182342529, -5.787499904632568, -4.372799873352051, -5.932300090789795, -5.9328999519348145, -5.933000087738037, -5.933300018310547, -5.933599948883057, -5.933899879455566, -5.934199810028076, -5.936100006103516, -5.939000129699707, -5.694300174713135, -6.105999946594238, -6.106800079345703, -5.229599952697754, -3.222599983215332, -4.627399921417236, -4.516900062561035, -4.427700042724609, -5.0493998527526855, -3.5106000900268555, -3.979599952697754, -4.284900188446045, -4.89769983291626, -5.386300086975098, -3.539799928665161, -5.293499946594238, -4.6579999923706055, -4.999000072479248, -4.803899765014648, -4.412499904632568, -4.211999893188477, -4.749899864196777, -5.351600170135498, -4.77869987487793, -4.794899940490723, -5.242800235748291, -5.226500034332275, -4.593999862670898, -4.958799839019775, -4.910799980163574, -5.036200046539307, -5.08050012588501, -5.09689998626709, -5.066999912261963, -5.0493998527526855, -3.468899965286255, -4.150199890136719, -4.414299964904785, -4.88730001449585, -4.59689998626709, -5.1697998046875, -5.169899940490723, -5.171999931335449, -5.255499839782715, -4.415900230407715, -5.454100131988525, -5.564899921417236, -5.565000057220459, -5.693999767303467, -5.695499897003174, -5.697500228881836, -5.4781999588012695, -5.478799819946289, -5.842400074005127, -5.843200206756592, -5.845799922943115, -5.847700119018555, -4.337900161743164, -6.019000053405762, -5.864999771118164, -6.020199775695801, -6.020299911499023, -5.431399822235107, -5.061299800872803, -4.375199794769287, -4.210999965667725, -2.6440999507904053, -4.73390007019043, -4.869200229644775, -4.007699966430664, -3.9261999130249023, -4.43779993057251, -4.447999954223633, -4.869500160217285, -4.658999919891357, -3.593100070953369, -4.553599834442139, -4.820499897003174, -4.824100017547607, -4.481100082397461, -4.617800235748291, -4.673699855804443, -4.283599853515625, -4.8566999435424805, -4.740799903869629, -4.966400146484375, -4.852200031280518, -5.12060022354126, -5.215000152587891, -5.3171000480651855, -5.317599773406982, -5.31790018081665, -5.321899890899658, -5.43120002746582, -5.436999797821045, -5.332900047302246, -4.69379997253418, -5.156300067901611, -5.561800003051758, -5.562399864196777, -5.708600044250488, -5.711299896240234, -5.711599826812744, -5.7118000984191895, -5.712100028991699, -5.716599941253662, -5.883299827575684, -5.884500026702881, -4.905099868774414, -5.886000156402588, -5.045899868011475, -5.047100067138672, -4.816400051116943, -4.036799907684326, -5.576600074768066, -5.585899829864502, -5.597499847412109, -4.2006001472473145, -4.0970001220703125, -4.135700225830078, -4.7480998039245605, -4.254300117492676, -4.958399772644043, -4.7281999588012695, -4.2789998054504395, -4.255300045013428, -4.825500011444092, -4.608099937438965, -3.861799955368042, -4.256999969482422, -4.418000221252441, -4.553800106048584, -4.55649995803833, -4.055600166320801, -4.9756999015808105, -4.95359992980957, -5.026599884033203, -4.470799922943115, -4.777299880981445, -4.878499984741211, -4.965099811553955, -4.938300132751465, -4.746799945831299, -4.96999979019165, -4.861199855804443], \"loglift\": [30.0, 29.0, 28.0, 27.0, 26.0, 25.0, 24.0, 23.0, 22.0, 21.0, 20.0, 19.0, 18.0, 17.0, 16.0, 15.0, 14.0, 13.0, 12.0, 11.0, 10.0, 9.0, 8.0, 7.0, 6.0, 5.0, 4.0, 3.0, 2.0, 1.0, 1.5341999530792236, 1.5276000499725342, 1.5089999437332153, 1.5055999755859375, 1.4996999502182007, 1.4917000532150269, 1.476699948310852, 1.475000023841858, 1.4722000360488892, 1.471500039100647, 1.4660999774932861, 1.464400053024292, 1.4601999521255493, 1.4585000276565552, 1.4544999599456787, 1.448099970817566, 1.444200038909912, 1.4313000440597534, 1.4305000305175781, 1.4292000532150269, 1.4285999536514282, 1.426200032234192, 1.4033000469207764, 1.3863999843597412, 1.3453999757766724, 1.3277000188827515, 1.3101999759674072, 1.2985999584197998, 1.2976000308990479, 1.2964999675750732, 1.2523000240325928, 1.2654999494552612, 1.2466000318527222, 1.2604999542236328, 1.2373000383377075, 0.9455999732017517, 1.2247999906539917, 1.068600058555603, 0.891700029373169, 1.1728999614715576, 0.9830999970436096, 1.1836999654769897, 1.1829999685287476, 0.7542999982833862, 1.1016000509262085, 0.7882999777793884, 1.007200002670288, 0.6675999760627747, 0.49970000982284546, 0.2085999995470047, -0.266400009393692, -0.7337999939918518, -0.46779999136924744, -0.6764000058174133, 1.2108999490737915, 1.2067999839782715, 1.200700044631958, 1.1784000396728516, 1.1721999645233154, 1.1606999635696411, 1.1538000106811523, 1.1527999639511108, 1.1512999534606934, 1.1444000005722046, 1.1430000066757202, 1.1418999433517456, 1.132699966430664, 1.1323000192642212, 1.131500005722046, 1.1302000284194946, 1.1289000511169434, 1.1259000301361084, 1.1175999641418457, 1.1169999837875366, 1.1169999837875366, 1.1167000532150269, 1.1164000034332275, 1.1160999536514282, 1.1158000230789185, 1.1138999462127686, 1.1110999584197998, 1.1039999723434448, 1.098099946975708, 1.0973000526428223, 1.0570000410079956, 0.9435999989509583, 0.9991999864578247, 0.9513999819755554, 0.9319999814033508, 1.0003000497817993, 0.6966000199317932, 0.770799994468689, 0.6825000047683716, 0.8431000113487244, 0.9726999998092651, 0.42289999127388, 0.9294999837875366, 0.628600001335144, 0.7010999917984009, 0.5785999894142151, 0.3472999930381775, -0.03709999844431877, 0.3483999967575073, 0.869700014591217, 0.30059999227523804, 0.2101999968290329, 0.7569000124931335, 0.7210000157356262, -0.31869998574256897, 0.27459999918937683, 0.0502999983727932, 0.27070000767707825, 0.2522999942302704, 0.28450000286102295, 0.09849999845027924, -0.2296999990940094, 1.3193000555038452, 1.3020999431610107, 1.2971999645233154, 1.2868000268936157, 1.2747999429702759, 1.2724000215530396, 1.2721999883651733, 1.2700999975204468, 1.2666000127792358, 1.2584999799728394, 1.250100016593933, 1.2446000576019287, 1.2445000410079956, 1.2330000400543213, 1.2315000295639038, 1.229599952697754, 1.225600004196167, 1.225100040435791, 1.2180999517440796, 1.2172000408172607, 1.2145999670028687, 1.2127000093460083, 1.201799988746643, 1.1952999830245972, 1.195199966430664, 1.194100022315979, 1.194000005722046, 1.1766999959945679, 1.1720999479293823, 1.163699984550476, 1.1574000120162964, 1.0719000101089478, 1.0914000272750854, 1.0915000438690186, 0.9534000158309937, 0.8865000009536743, 0.9524000287055969, 0.9445000290870667, 0.9549000263214111, 0.8758999705314636, 0.36970001459121704, 0.7597000002861023, 0.7437000274658203, 0.7401000261306763, 0.4894999861717224, 0.39250001311302185, 0.3691999912261963, -0.10869999974966049, 0.4059000015258789, 0.009600000455975533, 0.32019999623298645, -0.6450999975204468, 1.3808000087738037, 1.3734999895095825, 1.3667000532150269, 1.3662999868392944, 1.3660000562667847, 1.3621000051498413, 1.3581000566482544, 1.3524999618530273, 1.3513000011444092, 1.3486000299453735, 1.3458000421524048, 1.3454999923706055, 1.3450000286102295, 1.3323999643325806, 1.329800009727478, 1.3294999599456787, 1.329300045967102, 1.3289999961853027, 1.3245999813079834, 1.3121000528335571, 1.3108999729156494, 1.3100999593734741, 1.309399962425232, 1.3020000457763672, 1.3007999658584595, 1.280400037765503, 1.215499997138977, 1.2139999866485596, 1.204800009727478, 1.1950000524520874, 1.1790000200271606, 0.945900022983551, 0.906000018119812, 1.0218000411987305, 0.843999981880188, 1.038599967956543, 0.9652000069618225, 0.8003000020980835, 0.715399980545044, 0.9496999979019165, 0.8317000269889832, 0.31310001015663147, 0.5026999711990356, 0.5870000123977661, 0.6083999872207642, 0.6090999841690063, 0.15160000324249268, 0.9228000044822693, 0.7838000059127808, 0.8747000098228455, -0.19539999961853027, 0.19020000100135803, 0.3549000024795532, 0.5990999937057495, 0.46950000524520874, -1.030900001525879, 0.5942000150680542, -0.6949999928474426]}, \"token.table\": {\"Topic\": [1, 2, 3, 2, 1, 3, 1, 2, 4, 3, 4, 1, 3, 2, 4, 1, 2, 3, 4, 2, 3, 4, 1, 4, 4, 2, 2, 3, 1, 2, 3, 4, 3, 3, 4, 3, 3, 4, 4, 1, 2, 3, 4, 1, 2, 3, 1, 2, 4, 2, 3, 2, 3, 4, 3, 1, 2, 3, 4, 1, 3, 3, 4, 3, 3, 2, 3, 1, 4, 2, 3, 4, 2, 1, 3, 1, 4, 4, 1, 4, 2, 4, 2, 3, 1, 2, 4, 3, 4, 2, 4, 4, 2, 1, 2, 3, 1, 2, 3, 2, 3, 4, 2, 3, 4, 2, 3, 3, 3, 1, 1, 4, 2, 1, 3, 2, 4, 3, 4, 2, 3, 1, 1, 4, 1, 1, 3, 3, 1, 2, 3, 4, 1, 2, 3, 4, 1, 1, 4, 2, 1, 2, 3, 3, 4, 2, 3, 4, 2, 1, 3, 4, 1, 2, 2, 2, 1, 4, 2, 1, 2, 4, 2, 1, 2, 1, 1, 2, 3, 4, 1, 3, 1, 2, 4, 1, 4, 1, 2, 3, 4, 1, 2, 3, 1, 2, 4, 1, 4, 1, 2, 3, 4, 2, 3, 4, 4, 1, 2, 3, 2, 2, 3, 4, 2, 1, 3, 4, 3, 1, 3, 1, 3, 2, 1, 3, 1, 2, 3, 4, 3, 2, 4, 1, 3, 4, 3, 1, 2, 4, 2, 4, 3, 4, 4, 3, 4, 1, 2, 3, 1, 2, 2, 3, 1, 3, 4, 3, 4, 2, 4, 1, 2, 3, 4, 3, 4, 4, 1, 2, 3, 4, 2, 2, 3, 4, 1, 2, 2, 1, 2, 1, 2, 3, 2, 4, 2, 3, 3, 4, 2, 1, 3, 2, 4, 2, 3, 4, 1, 3, 4, 1, 1, 3, 4, 4, 3, 1, 3, 4, 1, 2, 3, 4, 2, 4, 1, 2, 4, 1, 3, 4, 3, 4, 3, 4, 1, 2, 1, 2, 3, 2, 1, 1, 4, 3, 4, 2, 2, 4, 2, 3, 4, 4, 1, 2, 4, 1, 3, 4, 1, 2, 3, 4, 2, 2, 1, 1, 2], \"Freq\": [0.7756713628768921, 0.09695892035961151, 0.09695892035961151, 0.9139599204063416, 0.888127326965332, 0.9234246611595154, 0.25868526101112366, 0.5173705220222473, 0.2299424558877945, 0.9122928977012634, 0.9058513641357422, 0.6751282215118408, 0.28130343556404114, 0.07548310607671738, 0.8303141593933105, 0.07429036498069763, 0.37145182490348816, 0.19810764491558075, 0.3466883599758148, 0.32395127415657043, 0.2313937544822693, 0.4396481513977051, 0.9467853307723999, 0.9505717158317566, 0.9679595828056335, 0.913913905620575, 0.3017503023147583, 0.6789381504058838, 0.09773746132850647, 0.0434388741850853, 0.7710400223731995, 0.08144788444042206, 0.923437237739563, 0.9237815141677856, 0.0384908951818943, 0.9837214350700378, 0.20186714828014374, 0.7822352051734924, 0.924452006816864, 0.5075521469116211, 0.22921709716320038, 0.06549059599637985, 0.19647179543972015, 0.10694104433059692, 0.6263689994812012, 0.2597139775753021, 0.2353498935699463, 0.11767494678497314, 0.6275997161865234, 0.030819762498140335, 0.9554126858711243, 0.40328076481819153, 0.08490121364593506, 0.5306325554847717, 0.9580020308494568, 0.10424076020717621, 0.44476059079170227, 0.38221612572669983, 0.0694938376545906, 0.9318348169326782, 0.9234487414360046, 0.897527277469635, 0.9244376420974731, 0.9586905837059021, 0.9515431523323059, 0.04688312113285065, 0.9376624226570129, 0.6190900802612305, 0.3832462430000305, 0.5923608541488647, 0.19745361804962158, 0.19745361804962158, 0.9138527512550354, 0.7390934824943542, 0.16424299776554108, 0.744618833065033, 0.21274824440479279, 0.9390048980712891, 0.7272668480873108, 0.22377440333366394, 0.11743064224720001, 0.8220145106315613, 0.9328699111938477, 0.8975102305412292, 0.9830500483512878, 0.8289154171943665, 0.11841648817062378, 0.5515328645706177, 0.41364964842796326, 0.8072426915168762, 0.18346425890922546, 0.9600781202316284, 0.9328874349594116, 0.10249266028404236, 0.10249266028404236, 0.7686949968338013, 0.3569338917732239, 0.2549527883529663, 0.40792444348335266, 0.9138695001602173, 0.11773983389139175, 0.8241788148880005, 0.16353408992290497, 0.2657428979873657, 0.5928110480308533, 0.9595154523849487, 0.9700671434402466, 0.9428229331970215, 0.8984261155128479, 0.8877323269844055, 0.33875149488449097, 0.6351590156555176, 0.932880163192749, 0.8003699779510498, 0.1333950012922287, 0.7842308878898621, 0.16804948449134827, 0.22929111123085022, 0.7738574743270874, 0.7631521224975586, 0.22894564270973206, 0.9830955862998962, 0.8876762986183167, 0.9057623744010925, 0.9467594623565674, 0.13461382687091827, 0.8749898672103882, 0.9580090641975403, 0.057123664766550064, 0.01904122158885002, 0.4379481077194214, 0.47603052854537964, 0.25841090083122253, 0.40197253227233887, 0.028712322935461998, 0.315835565328598, 0.9319907426834106, 0.9130518436431885, 0.938918948173523, 0.8884666562080383, 0.7418256402015686, 0.18545641005039215, 0.09272820502519608, 0.8745711445808411, 0.10091204941272736, 0.0819782018661499, 0.4098910093307495, 0.5328583121299744, 0.9328752756118774, 0.030439062044024467, 0.3957078158855438, 0.5479031205177307, 0.7519339323043823, 0.18798348307609558, 0.9691988825798035, 0.9595713019371033, 0.7270897626876831, 0.27964991331100464, 0.8884583711624146, 0.12775743007659912, 0.7495102882385254, 0.11924027651548386, 0.9808119535446167, 0.9319689273834229, 0.9772440791130066, 0.9468218684196472, 0.4358162581920624, 0.07923932373523712, 0.3961966037750244, 0.07923932373523712, 0.8593527674674988, 0.1481642723083496, 0.46122822165489197, 0.09224564582109451, 0.4381668269634247, 0.07547461241483688, 0.8302206993103027, 0.32819804549217224, 0.3828977048397064, 0.1914488524198532, 0.13674917817115784, 0.04112815111875534, 0.6580504179000854, 0.24676889181137085, 0.13285960257053375, 0.5693983435630798, 0.2846991717815399, 0.1175120621919632, 0.8225844502449036, 0.030840395018458366, 0.4163453280925751, 0.16962216794490814, 0.38550493121147156, 0.24147428572177887, 0.1931794285774231, 0.5795382857322693, 0.8807654976844788, 0.11238285899162292, 0.7304885983467102, 0.14047856628894806, 0.9138514995574951, 0.055606015026569366, 0.055606015026569366, 0.8896962404251099, 0.9476722478866577, 0.5563859343528748, 0.2318274825811386, 0.18546198308467865, 0.9123148918151855, 0.9321326017379761, 0.9232895970344543, 0.6916432976722717, 0.314383327960968, 0.9138491749763489, 0.8876381516456604, 0.8975338339805603, 0.06263631582260132, 0.7516357898712158, 0.03131815791130066, 0.12527263164520264, 0.8620232939720154, 0.8519433736801147, 0.1419905573129654, 0.9467660784721375, 0.38889631628990173, 0.6140468120574951, 0.9428690075874329, 0.1926298588514328, 0.1926298588514328, 0.5778895616531372, 0.903994619846344, 0.06457104533910751, 0.5515313148498535, 0.4136485159397125, 0.8807998299598694, 0.8403064012527466, 0.13444902002811432, 0.5596766471862793, 0.3731177747249603, 0.05330254137516022, 0.8959571123123169, 0.0845242589712143, 0.09791286289691925, 0.8812158107757568, 0.29034197330474854, 0.6677865386009216, 0.029034199193120003, 0.3188270628452301, 0.6907919645309448, 0.959509015083313, 0.9056931138038635, 0.16324906051158905, 0.2835378348827362, 0.2405775636434555, 0.3264981210231781, 0.9428786635398865, 0.9057697653770447, 0.9506452083587646, 0.5415156483650208, 0.20900604128837585, 0.05700164660811424, 0.19000549614429474, 0.9629170894622803, 0.35471755266189575, 0.21677184104919434, 0.43354368209838867, 0.19985495507717133, 0.7328014969825745, 0.92399001121521, 0.7410686612129211, 0.27790072560310364, 0.40234625339508057, 0.02682308293879032, 0.5632847547531128, 0.9329293966293335, 0.905738890171051, 0.14170955121517181, 0.8502573370933533, 0.805667519569397, 0.17903722822666168, 0.9138575792312622, 0.976284921169281, 0.8618887662887573, 0.11752146482467651, 0.8226502537727356, 0.6649976968765259, 0.06649976968765259, 0.26599907875061035, 0.6940717101097107, 0.26695066690444946, 0.053390130400657654, 0.9320273995399475, 0.26013705134391785, 0.6340840458869934, 0.0975513905286789, 0.9505821466445923, 0.9234477281570435, 0.9635684490203857, 0.08806228637695312, 0.880622923374176, 0.9130337238311768, 0.5856649875640869, 0.1419793963432312, 0.27508506178855896, 0.913864016532898, 0.9505496025085449, 0.04326698184013367, 0.41103634238243103, 0.540837287902832, 0.06695163249969482, 0.6360405087471008, 0.2678065299987793, 0.6951446533203125, 0.28964361548423767, 0.38310670852661133, 0.5959437489509583, 0.373004287481308, 0.639435887336731, 0.7350261807441711, 0.11855261027812958, 0.14226312935352325, 0.9138418436050415, 0.9682633876800537, 0.7272070050239563, 0.22375600039958954, 0.9123169779777527, 0.880784273147583, 0.9477152824401855, 0.606904149055481, 0.3540274202823639, 0.13414743542671204, 0.6707371473312378, 0.17886324226856232, 0.905794084072113, 0.6076608896255493, 0.15191522240638733, 0.2025536298751831, 0.8876460194587708, 0.06610245257616043, 0.8593319058418274, 0.07834239304065704, 0.5483967661857605, 0.36559784412384033, 0.950867235660553, 0.9476677179336548, 0.9020950794219971, 0.887690544128418, 0.7748405337333679, 0.19371013343334198], \"Term\": [\"acabado\", \"acabado\", \"acabado\", \"aceptable\", \"acero\", \"adecuado\", \"amazon\", \"amazon\", \"amazon\", \"aparece\", \"apenas\", \"art\\u00edculo\", \"art\\u00edculo\", \"aspecto\", \"aspecto\", \"as\\u00ed\", \"as\\u00ed\", \"as\\u00ed\", \"as\\u00ed\", \"aunque\", \"aunque\", \"aunque\", \"auriculares\", \"baja\", \"barato\", \"base\", \"bastante\", \"bastante\", \"bien\", \"bien\", \"bien\", \"bien\", \"bolsita\", \"bonita\", \"bonita\", \"bonito\", \"bonitos\", \"bonitos\", \"brillo\", \"buen\", \"buen\", \"buen\", \"buen\", \"buena\", \"buena\", \"buena\", \"bueno\", \"bueno\", \"bueno\", \"cadena\", \"cadena\", \"caja\", \"caja\", \"caja\", \"cajita\", \"calidad\", \"calidad\", \"calidad\", \"calidad\", \"carga\", \"cerrar\", \"certificado\", \"cierra\", \"colgante\", \"collar\", \"color\", \"color\", \"compra\", \"compra\", \"comprar\", \"comprar\", \"comprar\", \"compras\", \"contenta\", \"contenta\", \"contento\", \"contento\", \"correctamente\", \"correcto\", \"correcto\", \"cosa\", \"cosa\", \"cuenta\", \"cuesta\", \"cumple\", \"deber\\u00eda\", \"deber\\u00eda\", \"demasiado\", \"demasiado\", \"despu\\u00e9s\", \"despu\\u00e9s\", \"devuelto\", \"dicen\", \"dise\\u00f1o\", \"dise\\u00f1o\", \"dise\\u00f1o\", \"dos\", \"dos\", \"dos\", \"doy\", \"duda\", \"duda\", \"d\\u00eda\", \"d\\u00eda\", \"d\\u00eda\", \"edici\\u00f3n\", \"elegante\", \"elegantes\", \"encant\\u00f3\", \"entra\", \"entrega\", \"entrega\", \"entretenido\", \"envio\", \"envio\", \"espa\\u00f1ol\", \"espa\\u00f1ol\", \"esperaba\", \"esperaba\", \"estrellas\", \"estrellas\", \"expectativas\", \"familia\", \"fan\", \"fatal\", \"fina\", \"fina\", \"fino\", \"foto\", \"foto\", \"foto\", \"foto\", \"funciona\", \"funciona\", \"funciona\", \"funciona\", \"funcionan\", \"funci\\u00f3n\", \"genial\", \"gente\", \"gracias\", \"gracias\", \"gracias\", \"grande\", \"grande\", \"grandes\", \"grandes\", \"grandes\", \"gr\\u00e1ficos\", \"gustado\", \"gustado\", \"gustado\", \"hijo\", \"hijo\", \"historia\", \"ideal\", \"igual\", \"igual\", \"ingles\", \"juego\", \"juego\", \"juego\", \"juegos\", \"jugando\", \"jugar\", \"lado\", \"llegado\", \"llegado\", \"llegado\", \"llegado\", \"llego\", \"llego\", \"lleg\\u00f3\", \"lleg\\u00f3\", \"lleg\\u00f3\", \"luego\", \"luego\", \"mal\", \"mal\", \"mal\", \"mal\", \"mala\", \"mala\", \"mala\", \"mando\", \"mando\", \"mando\", \"marca\", \"marca\", \"mas\", \"mas\", \"mas\", \"mas\", \"material\", \"material\", \"material\", \"media\", \"mejor\", \"mejor\", \"mejor\", \"merece\", \"mismo\", \"mismo\", \"mismo\", \"modo\", \"momento\", \"momento\", \"momento\", \"mujer\", \"negro\", \"ningun\", \"nuevo\", \"nuevo\", \"one\", \"opinar\", \"opini\\u00f3n\", \"original\", \"original\", \"original\", \"original\", \"pandora\", \"paquete\", \"paquete\", \"par\", \"parece\", \"parece\", \"parecido\", \"pedir\", \"pedir\", \"pedir\", \"pena\", \"pena\", \"pendientes\", \"pendientes\", \"pensaba\", \"peque\\u00f1o\", \"peque\\u00f1o\", \"perfectamente\", \"perfectamente\", \"perfectamente\", \"perfecto\", \"perfecto\", \"piedra\", \"piedra\", \"plata\", \"plata\", \"plata\", \"pl\\u00e1stico\", \"pl\\u00e1stico\", \"poder\", \"ponen\", \"precio\", \"precio\", \"precio\", \"precio\", \"precioso\", \"primera\", \"principio\", \"producto\", \"producto\", \"producto\", \"producto\", \"ps\", \"puede\", \"puede\", \"puede\", \"pueden\", \"pueden\", \"puedes\", \"puedo\", \"puedo\", \"pulsera\", \"pulsera\", \"pulsera\", \"pulseras\", \"p\\u00e9simo\", \"queda\", \"queda\", \"quedan\", \"quedan\", \"quieres\", \"rapido\", \"rat\\u00f3n\", \"realmente\", \"realmente\", \"recibido\", \"recibido\", \"recibido\", \"recomendable\", \"recomendable\", \"recomendable\", \"recomendado\", \"regalo\", \"regalo\", \"regalo\", \"rompi\\u00f3\", \"rosa\", \"roto\", \"saga\", \"saga\", \"semanas\", \"si\", \"si\", \"si\", \"siendo\", \"sigue\", \"solo\", \"solo\", \"solo\", \"tal\", \"tal\", \"tal\", \"tama\\u00f1o\", \"tama\\u00f1o\", \"tan\", \"tan\", \"tener\", \"tener\", \"tiempo\", \"tiempo\", \"tiempo\", \"tipo\", \"toda\", \"todas\", \"todas\", \"todav\\u00eda\", \"usado\", \"utilizar\", \"vale\", \"vale\", \"ve\", \"ve\", \"ve\", \"ven\", \"vendedor\", \"vendedor\", \"vendedor\", \"venido\", \"ver\", \"ver\", \"viene\", \"viene\", \"viene\", \"vino\", \"voy\", \"xbox\", \"\\u00fanica\", \"\\u00fanico\", \"\\u00fanico\"]}, \"R\": 30, \"lambda.step\": 0.01, \"plot.opts\": {\"xlab\": \"PC1\", \"ylab\": \"PC2\"}, \"topic.order\": [1, 2, 3, 4]};\n",
       "\n",
       "function LDAvis_load_lib(url, callback){\n",
       "  var s = document.createElement('script');\n",
       "  s.src = url;\n",
       "  s.async = true;\n",
       "  s.onreadystatechange = s.onload = callback;\n",
       "  s.onerror = function(){console.warn(\"failed to load library \" + url);};\n",
       "  document.getElementsByTagName(\"head\")[0].appendChild(s);\n",
       "}\n",
       "\n",
       "if(typeof(LDAvis) !== \"undefined\"){\n",
       "   // already loaded: just create the visualization\n",
       "   !function(LDAvis){\n",
       "       new LDAvis(\"#\" + \"ldavis_el2294418050722152404498351774\", ldavis_el2294418050722152404498351774_data);\n",
       "   }(LDAvis);\n",
       "}else if(typeof define === \"function\" && define.amd){\n",
       "   // require.js is available: use it to load d3/LDAvis\n",
       "   require.config({paths: {d3: \"https://cdnjs.cloudflare.com/ajax/libs/d3/3.5.5/d3.min\"}});\n",
       "   require([\"d3\"], function(d3){\n",
       "      window.d3 = d3;\n",
       "      LDAvis_load_lib(\"https://cdn.rawgit.com/bmabey/pyLDAvis/files/ldavis.v1.0.0.js\", function(){\n",
       "        new LDAvis(\"#\" + \"ldavis_el2294418050722152404498351774\", ldavis_el2294418050722152404498351774_data);\n",
       "      });\n",
       "    });\n",
       "}else{\n",
       "    // require.js not available: dynamically load d3 & LDAvis\n",
       "    LDAvis_load_lib(\"https://cdnjs.cloudflare.com/ajax/libs/d3/3.5.5/d3.min.js\", function(){\n",
       "         LDAvis_load_lib(\"https://cdn.rawgit.com/bmabey/pyLDAvis/files/ldavis.v1.0.0.js\", function(){\n",
       "                 new LDAvis(\"#\" + \"ldavis_el2294418050722152404498351774\", ldavis_el2294418050722152404498351774_data);\n",
       "            })\n",
       "         });\n",
       "}\n",
       "</script>"
      ],
      "text/plain": [
       "<IPython.core.display.HTML object>"
      ]
     },
     "execution_count": 11,
     "metadata": {},
     "output_type": "execute_result"
    }
   ],
   "source": [
    "lda_display = pyLDAvis.gensim.prepare(model, corpus, dictionary, sort_topics=False)\n",
    "pyLDAvis.display(lda_display)\n",
    "# pyLDAvis.save_html(lda_display, 'lda.html')"
   ]
  },
  {
   "cell_type": "code",
   "execution_count": null,
   "metadata": {},
   "outputs": [],
   "source": []
  }
 ],
 "metadata": {
  "kernelspec": {
   "display_name": "Python 3",
   "language": "python",
   "name": "python3"
  },
  "language_info": {
   "codemirror_mode": {
    "name": "ipython",
    "version": 3
   },
   "file_extension": ".py",
   "mimetype": "text/x-python",
   "name": "python",
   "nbconvert_exporter": "python",
   "pygments_lexer": "ipython3",
   "version": "3.7.6"
  }
 },
 "nbformat": 4,
 "nbformat_minor": 2
}
