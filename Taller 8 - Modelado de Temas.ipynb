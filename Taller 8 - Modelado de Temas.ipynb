{
 "cells": [
  {
   "cell_type": "markdown",
   "metadata": {},
   "source": [
    "<img src='https://encrypted-tbn0.gstatic.com/images?q=tbn%3AANd9GcQ-VfNtOyJbsaxu43Kztf_cv1mgBG6ZIQZEVw&usqp=CAU'>\n",
    "\n",
    "# Procesamiento de Lenguage Natural\n",
    "\n",
    "## Taller #8: Modelado de temas\n",
    "`Fecha de entrega: 🎃 Octubre 31, 2020. (Antes del inicio de la próxima clase).`\n",
    "\n",
    "`Modo de entrega: Subir link de GitHub al aula virtual.`"
   ]
  },
  {
   "cell_type": "code",
   "execution_count": 1,
   "metadata": {},
   "outputs": [
    {
     "name": "stderr",
     "output_type": "stream",
     "text": [
      "C:\\ProgramData\\Anaconda3\\lib\\site-packages\\scipy\\sparse\\sparsetools.py:21: DeprecationWarning: `scipy.sparse.sparsetools` is deprecated!\n",
      "scipy.sparse.sparsetools is a private module for scipy.sparse, and should not be used.\n",
      "  _deprecated()\n"
     ]
    }
   ],
   "source": [
    "import re\n",
    "import pandas as pd \n",
    "from pprint import pprint\n",
    "\n",
    "from nltk.corpus import stopwords\n",
    "stopwords = stopwords.words('spanish')\n",
    "\n",
    "import pyLDAvis.gensim\n",
    "from gensim.models import LdaModel\n",
    "from gensim.corpora import Dictionary\n",
    "\n",
    "import warnings\n",
    "warnings.filterwarnings(\"ignore\", category=DeprecationWarning)"
   ]
  },
  {
   "cell_type": "code",
   "execution_count": 2,
   "metadata": {},
   "outputs": [
    {
     "data": {
      "text/html": [
       "<div>\n",
       "<style scoped>\n",
       "    .dataframe tbody tr th:only-of-type {\n",
       "        vertical-align: middle;\n",
       "    }\n",
       "\n",
       "    .dataframe tbody tr th {\n",
       "        vertical-align: top;\n",
       "    }\n",
       "\n",
       "    .dataframe thead th {\n",
       "        text-align: right;\n",
       "    }\n",
       "</style>\n",
       "<table border=\"1\" class=\"dataframe\">\n",
       "  <thead>\n",
       "    <tr style=\"text-align: right;\">\n",
       "      <th></th>\n",
       "      <th>review_id</th>\n",
       "      <th>product_id</th>\n",
       "      <th>reviewer_id</th>\n",
       "      <th>stars</th>\n",
       "      <th>review_body</th>\n",
       "      <th>review_title</th>\n",
       "      <th>language</th>\n",
       "      <th>product_category</th>\n",
       "    </tr>\n",
       "  </thead>\n",
       "  <tbody>\n",
       "    <tr>\n",
       "      <th>0</th>\n",
       "      <td>es_0825565</td>\n",
       "      <td>product_es_0370490</td>\n",
       "      <td>reviewer_es_0174781</td>\n",
       "      <td>3</td>\n",
       "      <td>Buen. Buena calidad, y buena presentación.</td>\n",
       "      <td>Contenta</td>\n",
       "      <td>es</td>\n",
       "      <td>jewelry</td>\n",
       "    </tr>\n",
       "    <tr>\n",
       "      <th>1</th>\n",
       "      <td>es_0227934</td>\n",
       "      <td>product_es_0354224</td>\n",
       "      <td>reviewer_es_0411613</td>\n",
       "      <td>3</td>\n",
       "      <td>Un producto a perfecto, para salir de casa con...</td>\n",
       "      <td>Versatilidad</td>\n",
       "      <td>es</td>\n",
       "      <td>video_games</td>\n",
       "    </tr>\n",
       "    <tr>\n",
       "      <th>2</th>\n",
       "      <td>es_0468601</td>\n",
       "      <td>product_es_0665460</td>\n",
       "      <td>reviewer_es_0348315</td>\n",
       "      <td>1</td>\n",
       "      <td>No funciona con Nintendo Switch. No hay forma ...</td>\n",
       "      <td>Decepción absoluta</td>\n",
       "      <td>es</td>\n",
       "      <td>video_games</td>\n",
       "    </tr>\n",
       "    <tr>\n",
       "      <th>3</th>\n",
       "      <td>es_0814494</td>\n",
       "      <td>product_es_0692692</td>\n",
       "      <td>reviewer_es_0951508</td>\n",
       "      <td>5</td>\n",
       "      <td>Recomendado, los utilizo para pc y no me dan n...</td>\n",
       "      <td>Auriculares Pecham ps4</td>\n",
       "      <td>es</td>\n",
       "      <td>video_games</td>\n",
       "    </tr>\n",
       "    <tr>\n",
       "      <th>4</th>\n",
       "      <td>es_0206329</td>\n",
       "      <td>product_es_0728826</td>\n",
       "      <td>reviewer_es_0493255</td>\n",
       "      <td>4</td>\n",
       "      <td>El cable funciona bien podria ser un poco mas ...</td>\n",
       "      <td>Perfecto</td>\n",
       "      <td>es</td>\n",
       "      <td>video_games</td>\n",
       "    </tr>\n",
       "  </tbody>\n",
       "</table>\n",
       "</div>"
      ],
      "text/plain": [
       "    review_id          product_id          reviewer_id  stars  \\\n",
       "0  es_0825565  product_es_0370490  reviewer_es_0174781      3   \n",
       "1  es_0227934  product_es_0354224  reviewer_es_0411613      3   \n",
       "2  es_0468601  product_es_0665460  reviewer_es_0348315      1   \n",
       "3  es_0814494  product_es_0692692  reviewer_es_0951508      5   \n",
       "4  es_0206329  product_es_0728826  reviewer_es_0493255      4   \n",
       "\n",
       "                                         review_body            review_title  \\\n",
       "0         Buen. Buena calidad, y buena presentación.                Contenta   \n",
       "1  Un producto a perfecto, para salir de casa con...            Versatilidad   \n",
       "2  No funciona con Nintendo Switch. No hay forma ...      Decepción absoluta   \n",
       "3  Recomendado, los utilizo para pc y no me dan n...  Auriculares Pecham ps4   \n",
       "4  El cable funciona bien podria ser un poco mas ...                Perfecto   \n",
       "\n",
       "  language product_category  \n",
       "0       es          jewelry  \n",
       "1       es      video_games  \n",
       "2       es      video_games  \n",
       "3       es      video_games  \n",
       "4       es      video_games  "
      ]
     },
     "execution_count": 2,
     "metadata": {},
     "output_type": "execute_result"
    }
   ],
   "source": [
    "# Cargar datos\n",
    "path = 'C:/Users/57314/Documents/Especializacion/Segundo Semestre/Texto/dirchlet/reviews_vidjew_es.csv'\n",
    "data = pd.read_csv(path)\n",
    "data.head()"
   ]
  },
  {
   "cell_type": "markdown",
   "metadata": {},
   "source": [
    "###  `[12 pts]` Punto 1: Hacer pre-procesamiento del texto"
   ]
  },
  {
   "cell_type": "code",
   "execution_count": 3,
   "metadata": {},
   "outputs": [
    {
     "data": {
      "text/html": [
       "<div>\n",
       "<style scoped>\n",
       "    .dataframe tbody tr th:only-of-type {\n",
       "        vertical-align: middle;\n",
       "    }\n",
       "\n",
       "    .dataframe tbody tr th {\n",
       "        vertical-align: top;\n",
       "    }\n",
       "\n",
       "    .dataframe thead th {\n",
       "        text-align: right;\n",
       "    }\n",
       "</style>\n",
       "<table border=\"1\" class=\"dataframe\">\n",
       "  <thead>\n",
       "    <tr style=\"text-align: right;\">\n",
       "      <th></th>\n",
       "      <th>review_id</th>\n",
       "      <th>product_id</th>\n",
       "      <th>reviewer_id</th>\n",
       "      <th>stars</th>\n",
       "      <th>review_body</th>\n",
       "      <th>review_title</th>\n",
       "      <th>language</th>\n",
       "      <th>product_category</th>\n",
       "      <th>Pre-Processed</th>\n",
       "    </tr>\n",
       "  </thead>\n",
       "  <tbody>\n",
       "    <tr>\n",
       "      <th>0</th>\n",
       "      <td>es_0825565</td>\n",
       "      <td>product_es_0370490</td>\n",
       "      <td>reviewer_es_0174781</td>\n",
       "      <td>3</td>\n",
       "      <td>Buen. Buena calidad, y buena presentación.</td>\n",
       "      <td>Contenta</td>\n",
       "      <td>es</td>\n",
       "      <td>jewelry</td>\n",
       "      <td>[buen, buena, calidad, buena, presentación]</td>\n",
       "    </tr>\n",
       "    <tr>\n",
       "      <th>1</th>\n",
       "      <td>es_0227934</td>\n",
       "      <td>product_es_0354224</td>\n",
       "      <td>reviewer_es_0411613</td>\n",
       "      <td>3</td>\n",
       "      <td>Un producto a perfecto, para salir de casa con...</td>\n",
       "      <td>Versatilidad</td>\n",
       "      <td>es</td>\n",
       "      <td>video_games</td>\n",
       "      <td>[producto, perfecto, salir, casa, nintendo, sw...</td>\n",
       "    </tr>\n",
       "    <tr>\n",
       "      <th>2</th>\n",
       "      <td>es_0468601</td>\n",
       "      <td>product_es_0665460</td>\n",
       "      <td>reviewer_es_0348315</td>\n",
       "      <td>1</td>\n",
       "      <td>No funciona con Nintendo Switch. No hay forma ...</td>\n",
       "      <td>Decepción absoluta</td>\n",
       "      <td>es</td>\n",
       "      <td>video_games</td>\n",
       "      <td>[funciona, nintendo, switch, forma, emparejarl...</td>\n",
       "    </tr>\n",
       "    <tr>\n",
       "      <th>3</th>\n",
       "      <td>es_0814494</td>\n",
       "      <td>product_es_0692692</td>\n",
       "      <td>reviewer_es_0951508</td>\n",
       "      <td>5</td>\n",
       "      <td>Recomendado, los utilizo para pc y no me dan n...</td>\n",
       "      <td>Auriculares Pecham ps4</td>\n",
       "      <td>es</td>\n",
       "      <td>video_games</td>\n",
       "      <td>[recomendado, utilizo, pc, dan, ningún, proble...</td>\n",
       "    </tr>\n",
       "    <tr>\n",
       "      <th>4</th>\n",
       "      <td>es_0206329</td>\n",
       "      <td>product_es_0728826</td>\n",
       "      <td>reviewer_es_0493255</td>\n",
       "      <td>4</td>\n",
       "      <td>El cable funciona bien podria ser un poco mas ...</td>\n",
       "      <td>Perfecto</td>\n",
       "      <td>es</td>\n",
       "      <td>video_games</td>\n",
       "      <td>[cable, funciona, bien, podria, ser, mas, larg...</td>\n",
       "    </tr>\n",
       "  </tbody>\n",
       "</table>\n",
       "</div>"
      ],
      "text/plain": [
       "    review_id          product_id          reviewer_id  stars  \\\n",
       "0  es_0825565  product_es_0370490  reviewer_es_0174781      3   \n",
       "1  es_0227934  product_es_0354224  reviewer_es_0411613      3   \n",
       "2  es_0468601  product_es_0665460  reviewer_es_0348315      1   \n",
       "3  es_0814494  product_es_0692692  reviewer_es_0951508      5   \n",
       "4  es_0206329  product_es_0728826  reviewer_es_0493255      4   \n",
       "\n",
       "                                         review_body            review_title  \\\n",
       "0         Buen. Buena calidad, y buena presentación.                Contenta   \n",
       "1  Un producto a perfecto, para salir de casa con...            Versatilidad   \n",
       "2  No funciona con Nintendo Switch. No hay forma ...      Decepción absoluta   \n",
       "3  Recomendado, los utilizo para pc y no me dan n...  Auriculares Pecham ps4   \n",
       "4  El cable funciona bien podria ser un poco mas ...                Perfecto   \n",
       "\n",
       "  language product_category                                      Pre-Processed  \n",
       "0       es          jewelry        [buen, buena, calidad, buena, presentación]  \n",
       "1       es      video_games  [producto, perfecto, salir, casa, nintendo, sw...  \n",
       "2       es      video_games  [funciona, nintendo, switch, forma, emparejarl...  \n",
       "3       es      video_games  [recomendado, utilizo, pc, dan, ningún, proble...  \n",
       "4       es      video_games  [cable, funciona, bien, podria, ser, mas, larg...  "
      ]
     },
     "execution_count": 3,
     "metadata": {},
     "output_type": "execute_result"
    }
   ],
   "source": [
    "def pre_procesado(texto):\n",
    "    texto = texto.lower()\n",
    "    texto = re.sub(r\"[\\W\\d_]+\", \" \", texto)\n",
    "    texto = [palabra for palabra in texto.split() if palabra not in stopwords]\n",
    "    return texto\n",
    "\n",
    "data['Pre-Processed'] = data['review_body'].apply(lambda texto: pre_procesado(texto))\n",
    "\n",
    "data.head()"
   ]
  },
  {
   "cell_type": "markdown",
   "metadata": {},
   "source": [
    "###  `[13 pts]` Punto 2: Modelo de LDA"
   ]
  },
  {
   "cell_type": "code",
   "execution_count": 4,
   "metadata": {},
   "outputs": [
    {
     "name": "stdout",
     "output_type": "stream",
     "text": [
      "Requirement already satisfied: pyLDAvis in c:\\programdata\\anaconda3\\lib\\site-packages (2.1.2)\n",
      "Requirement already satisfied: pytest in c:\\programdata\\anaconda3\\lib\\site-packages (from pyLDAvis) (5.3.5)\n",
      "Requirement already satisfied: funcy in c:\\programdata\\anaconda3\\lib\\site-packages (from pyLDAvis) (1.15)\n",
      "Requirement already satisfied: numpy>=1.9.2 in c:\\programdata\\anaconda3\\lib\\site-packages (from pyLDAvis) (1.18.1)\n",
      "Requirement already satisfied: wheel>=0.23.0 in c:\\programdata\\anaconda3\\lib\\site-packages (from pyLDAvis) (0.34.2)\n",
      "Requirement already satisfied: future in c:\\programdata\\anaconda3\\lib\\site-packages (from pyLDAvis) (0.18.2)\n",
      "Requirement already satisfied: jinja2>=2.7.2 in c:\\programdata\\anaconda3\\lib\\site-packages (from pyLDAvis) (2.11.1)\n",
      "Requirement already satisfied: joblib>=0.8.4 in c:\\programdata\\anaconda3\\lib\\site-packages (from pyLDAvis) (0.14.1)\n",
      "Requirement already satisfied: pandas>=0.17.0 in c:\\programdata\\anaconda3\\lib\\site-packages (from pyLDAvis) (1.0.1)\n",
      "Requirement already satisfied: scipy>=0.18.0 in c:\\programdata\\anaconda3\\lib\\site-packages (from pyLDAvis) (1.4.1)\n",
      "Requirement already satisfied: numexpr in c:\\programdata\\anaconda3\\lib\\site-packages (from pyLDAvis) (2.7.1)\n",
      "Requirement already satisfied: py>=1.5.0 in c:\\programdata\\anaconda3\\lib\\site-packages (from pytest->pyLDAvis) (1.8.1)\n",
      "Requirement already satisfied: packaging in c:\\programdata\\anaconda3\\lib\\site-packages (from pytest->pyLDAvis) (20.1)\n",
      "Requirement already satisfied: attrs>=17.4.0 in c:\\programdata\\anaconda3\\lib\\site-packages (from pytest->pyLDAvis) (19.3.0)\n",
      "Requirement already satisfied: more-itertools>=4.0.0 in c:\\programdata\\anaconda3\\lib\\site-packages (from pytest->pyLDAvis) (8.2.0)\n",
      "Requirement already satisfied: pluggy<1.0,>=0.12 in c:\\programdata\\anaconda3\\lib\\site-packages (from pytest->pyLDAvis) (0.13.1)\n",
      "Requirement already satisfied: wcwidth in c:\\programdata\\anaconda3\\lib\\site-packages (from pytest->pyLDAvis) (0.1.8)\n",
      "Requirement already satisfied: importlib-metadata>=0.12 in c:\\programdata\\anaconda3\\lib\\site-packages (from pytest->pyLDAvis) (1.5.0)\n",
      "Requirement already satisfied: atomicwrites>=1.0 in c:\\programdata\\anaconda3\\lib\\site-packages (from pytest->pyLDAvis) (1.3.0)\n",
      "Requirement already satisfied: colorama in c:\\programdata\\anaconda3\\lib\\site-packages (from pytest->pyLDAvis) (0.4.3)\n",
      "Requirement already satisfied: MarkupSafe>=0.23 in c:\\programdata\\anaconda3\\lib\\site-packages (from jinja2>=2.7.2->pyLDAvis) (1.1.1)\n",
      "Requirement already satisfied: pytz>=2017.2 in c:\\programdata\\anaconda3\\lib\\site-packages (from pandas>=0.17.0->pyLDAvis) (2019.3)\n",
      "Requirement already satisfied: python-dateutil>=2.6.1 in c:\\programdata\\anaconda3\\lib\\site-packages (from pandas>=0.17.0->pyLDAvis) (2.8.1)\n",
      "Requirement already satisfied: six in c:\\programdata\\anaconda3\\lib\\site-packages (from packaging->pytest->pyLDAvis) (1.14.0)\n",
      "Requirement already satisfied: pyparsing>=2.0.2 in c:\\programdata\\anaconda3\\lib\\site-packages (from packaging->pytest->pyLDAvis) (2.4.6)\n",
      "Requirement already satisfied: zipp>=0.5 in c:\\programdata\\anaconda3\\lib\\site-packages (from importlib-metadata>=0.12->pytest->pyLDAvis) (2.2.0)\n"
     ]
    }
   ],
   "source": [
    "# Crear una representación de los documentos en forma de diccionario\n",
    "\n",
    "\n",
    "# Filtrar palabras muy frecuentes o infrecuentes\n",
    "\n",
    "\n",
    "\n",
    "#Train the topic model\n",
    "\n",
    "! pip install pyLDAvis\n",
    "import pyLDAvis.gensim\n",
    "from gensim.models import LdaModel\n",
    "from gensim.corpora import Dictionary\n",
    "from pprint import pprint\n"
   ]
  },
  {
   "cell_type": "code",
   "execution_count": 5,
   "metadata": {},
   "outputs": [],
   "source": [
    "# Crear una representación de los documentos en forma de diccionario\n",
    "dictionary = Dictionary(data['Pre-Processed'].values)\n",
    "\n",
    "# Filtrar palabras muy frecuentes o infrecuentes\n",
    "dictionary.filter_extremes(no_below=5, no_above=0.5)\n",
    "\n",
    "corpus = [dictionary.doc2bow(text) for text in data['Pre-Processed'].values]\n",
    "\n",
    "# Train the topic model\n",
    "model = LdaModel(corpus=corpus, id2word=dictionary, num_topics=4, passes=50)"
   ]
  },
  {
   "cell_type": "code",
   "execution_count": 6,
   "metadata": {},
   "outputs": [
    {
     "data": {
      "text/plain": [
       "[(0,\n",
       "  '0.049*\"juego\" + 0.020*\"si\" + 0.019*\"caja\" + 0.018*\"bien\" + 0.015*\"producto\" + 0.014*\"perfecto\" + 0.014*\"funciona\" + 0.013*\"así\" + 0.012*\"solo\" + 0.012*\"amazon\" + 0.012*\"mando\" + 0.011*\"perfectamente\" + 0.009*\"menos\" + 0.009*\"llegó\" + 0.009*\"parte\"'),\n",
       " (1,\n",
       "  '0.036*\"producto\" + 0.034*\"buen\" + 0.029*\"llegado\" + 0.023*\"precio\" + 0.017*\"bien\" + 0.017*\"aunque\" + 0.016*\"mas\" + 0.016*\"foto\" + 0.015*\"llego\" + 0.014*\"recomiendo\" + 0.014*\"bastante\" + 0.013*\"calidad\" + 0.013*\"perfecto\" + 0.012*\"cumple\" + 0.012*\"ve\"'),\n",
       " (2,\n",
       "  '0.041*\"bien\" + 0.031*\"calidad\" + 0.031*\"si\" + 0.029*\"precio\" + 0.023*\"bonitos\" + 0.019*\"buena\" + 0.019*\"puede\" + 0.014*\"grande\" + 0.014*\"mando\" + 0.013*\"pendientes\" + 0.013*\"tan\" + 0.013*\"quedan\" + 0.012*\"grandes\" + 0.012*\"pequeños\" + 0.012*\"original\"'),\n",
       " (3,\n",
       "  '0.038*\"calidad\" + 0.035*\"bonito\" + 0.025*\"bien\" + 0.021*\"regalo\" + 0.018*\"plata\" + 0.018*\"día\" + 0.017*\"pulsera\" + 0.017*\"buena\" + 0.016*\"precio\" + 0.015*\"queda\" + 0.013*\"bonita\" + 0.013*\"uso\" + 0.012*\"gustado\" + 0.012*\"color\" + 0.011*\"cadena\"')]"
      ]
     },
     "execution_count": 6,
     "metadata": {},
     "output_type": "execute_result"
    }
   ],
   "source": [
    "model.print_topics(num_words=15)"
   ]
  },
  {
   "cell_type": "markdown",
   "metadata": {},
   "source": [
    "###  `[25 pts]` Punto 3: Visualización de LDA"
   ]
  },
  {
   "cell_type": "code",
   "execution_count": 7,
   "metadata": {},
   "outputs": [
    {
     "data": {
      "text/html": [
       "\n",
       "<link rel=\"stylesheet\" type=\"text/css\" href=\"https://cdn.rawgit.com/bmabey/pyLDAvis/files/ldavis.v1.0.0.css\">\n",
       "\n",
       "\n",
       "<div id=\"ldavis_el368818091542206164939832830\"></div>\n",
       "<script type=\"text/javascript\">\n",
       "\n",
       "var ldavis_el368818091542206164939832830_data = {\"mdsDat\": {\"x\": [0.20057307075429165, 0.027527284640214998, -0.13655544866739555, -0.09154490672711135], \"y\": [-0.0655314949196895, 0.09897764505542528, -0.16346043275610425, 0.13001428262036846], \"topics\": [1, 2, 3, 4], \"cluster\": [1, 1, 1, 1], \"Freq\": [31.3271484375, 22.330913543701172, 22.7271671295166, 23.614768981933594]}, \"tinfo\": {\"Term\": [\"juego\", \"bonito\", \"buen\", \"llegado\", \"calidad\", \"producto\", \"bonitos\", \"caja\", \"precio\", \"buena\", \"plata\", \"puede\", \"si\", \"aunque\", \"funciona\", \"regalo\", \"pulsera\", \"d\\u00eda\", \"queda\", \"mando\", \"quedan\", \"uso\", \"bonita\", \"peque\\u00f1os\", \"tan\", \"llego\", \"color\", \"recomiendo\", \"ve\", \"grande\", \"juego\", \"caja\", \"funciona\", \"momento\", \"espa\\u00f1ol\", \"hijo\", \"mes\", \"xbox\", \"servicio\", \"dice\", \"ning\\u00fan\", \"devolver\", \"disco\", \"pc\", \"historia\", \"sitio\", \"switch\", \"devoluci\\u00f3n\", \"manera\", \"menos\", \"edici\\u00f3n\", \"voy\", \"italiano\", \"genial\", \"castellano\", \"play\", \"cuenta\", \"jugando\", \"funcionan\", \"venia\", \"problema\", \"amazon\", \"versi\\u00f3n\", \"rota\", \"as\\u00ed\", \"casa\", \"dinero\", \"nunca\", \"solo\", \"parte\", \"perfectamente\", \"pedido\", \"perfecto\", \"mando\", \"ahora\", \"si\", \"despu\\u00e9s\", \"viene\", \"lleg\\u00f3\", \"dos\", \"producto\", \"bien\", \"mejor\", \"mas\", \"pena\", \"jugar\", \"llegado\", \"envio\", \"sonido\", \"descripci\\u00f3n\", \"expectativas\", \"buen\", \"rapido\", \"contento\", \"nuevo\", \"c\\u00f3mo\", \"encanta\", \"bonitas\", \"punto\", \"ve\", \"asi\", \"ven\", \"sistema\", \"anuncio\", \"puesta\", \"enviaron\", \"compre\", \"cumple\", \"muchas\", \"recomiendo\", \"todav\\u00eda\", \"aun\", \"igual\", \"saga\", \"toda\", \"materiales\", \"llego\", \"aunque\", \"gracias\", \"producto\", \"vendedor\", \"foto\", \"mas\", \"precio\", \"bastante\", \"tiempo\", \"compra\", \"recomendable\", \"perfecto\", \"puede\", \"bien\", \"calidad\", \"esperaba\", \"regalo\", \"parece\", \"ser\", \"bonitos\", \"quedan\", \"peque\\u00f1os\", \"pl\\u00e1stico\", \"peque\\u00f1a\", \"tan\", \"devuelto\", \"s\\u00f3lo\", \"puestos\", \"preciosos\", \"ayuda\", \"hora\", \"elegantes\", \"cerrar\", \"m\\u00f3viles\", \"fan\", \"tienda\", \"entra\", \"medio\", \"grandes\", \"ni\\u00f1os\", \"llevas\", \"largo\", \"utilizar\", \"gusta\", \"pesan\", \"acero\", \"productos\", \"grande\", \"pantalla\", \"pendientes\", \"van\", \"vale\", \"cierre\", \"puede\", \"bueno\", \"botones\", \"original\", \"si\", \"buena\", \"bien\", \"precio\", \"tama\\u00f1o\", \"pues\", \"calidad\", \"mando\", \"jugar\", \"demasiado\", \"va\", \"mala\", \"ps\", \"material\", \"solo\", \"parece\", \"mas\", \"pena\", \"bonito\", \"color\", \"uso\", \"collar\", \"entregado\", \"plata\", \"veces\", \"encant\\u00f3\", \"ni\\u00f1as\", \"elegante\", \"rompi\\u00f3\", \"encantada\", \"bonita\", \"fino\", \"precioso\", \"perdi\\u00f3\", \"adecuado\", \"seg\\u00fan\", \"dorado\", \"apenas\", \"claro\", \"presentaci\\u00f3n\", \"certificado\", \"acierto\", \"fea\", \"cuello\", \"conjunto\", \"media\", \"rapidez\", \"debido\", \"pulsera\", \"pandora\", \"regalar\", \"queda\", \"cuidado\", \"colgante\", \"d\\u00eda\", \"regalo\", \"pone\", \"gustado\", \"calidad\", \"tal\", \"mandos\", \"compr\\u00e9\", \"cadena\", \"buena\", \"bien\", \"precio\", \"dos\", \"tama\\u00f1o\", \"cable\", \"viene\", \"bastante\", \"tiempo\", \"peque\\u00f1o\", \"parece\"], \"Freq\": [117.0, 63.0, 60.0, 50.0, 144.0, 104.0, 39.0, 46.0, 116.0, 65.0, 34.0, 50.0, 112.0, 43.0, 34.0, 61.0, 37.0, 48.0, 35.0, 52.0, 22.0, 23.0, 26.0, 21.0, 23.0, 33.0, 21.0, 28.0, 22.0, 30.0, 115.45027160644531, 45.944820404052734, 33.548248291015625, 20.808780670166016, 17.09612464904785, 15.214637756347656, 13.3373384475708, 11.465323448181152, 14.071154594421387, 10.531881332397461, 15.76865291595459, 10.476359367370605, 9.6034517288208, 9.599413871765137, 9.593011856079102, 9.580951690673828, 19.13224983215332, 8.663150787353516, 8.660400390625, 22.50922393798828, 8.639806747436523, 7.727459907531738, 7.720707416534424, 7.701584815979004, 7.698657989501953, 6.791674613952637, 6.790802955627441, 6.783438682556152, 6.781685829162598, 6.7781758308410645, 21.43016815185547, 29.230009078979492, 12.26911735534668, 9.898841857910156, 31.893360137939453, 10.53740119934082, 11.089609146118164, 15.888932228088379, 29.638343811035156, 21.53841209411621, 24.932636260986328, 17.882047653198242, 34.12568664550781, 28.61493682861328, 17.300676345825195, 46.932674407958984, 17.899526596069336, 21.407733917236328, 22.215038299560547, 20.85323715209961, 34.47578048706055, 42.197906494140625, 18.55637550354004, 20.938508987426758, 15.476552963256836, 15.648859977722168, 49.71487045288086, 14.250736236572266, 13.3106689453125, 12.38387680053711, 11.42698860168457, 57.03173828125, 10.486738204956055, 8.640595436096191, 14.582275390625, 7.700810432434082, 7.690472602844238, 7.690148830413818, 7.684466361999512, 20.380159378051758, 6.769598484039307, 5.831801891326904, 5.823357105255127, 4.885255336761475, 4.876973628997803, 4.840115547180176, 12.00114917755127, 20.510662078857422, 14.151554107666016, 23.444477081298828, 10.096662521362305, 10.0709228515625, 14.681551933288574, 9.267427444458008, 8.267059326171875, 6.760851860046387, 25.551916122436523, 28.775739669799805, 15.598228454589844, 60.5794563293457, 14.245149612426758, 27.113361358642578, 27.492687225341797, 38.15623092651367, 22.88855743408203, 19.164459228515625, 16.66229248046875, 11.862432479858398, 21.580163955688477, 18.107797622680664, 28.977928161621094, 21.942838668823242, 13.310722351074219, 14.335783958435059, 13.464113235473633, 12.072324752807617, 38.75277328491211, 21.952848434448242, 21.009645462036133, 18.15871810913086, 16.27241325378418, 22.02601432800293, 9.640854835510254, 8.706574440002441, 6.839243412017822, 6.837602138519287, 6.821590900421143, 6.806637763977051, 6.7961931228637695, 5.897597789764404, 5.893111228942871, 5.880193710327148, 5.865793704986572, 4.950439929962158, 4.9458184242248535, 21.433963775634766, 4.944016456604004, 4.929883003234863, 4.890008449554443, 7.252464294433594, 19.121198654174805, 6.3150787353515625, 4.729193687438965, 5.926215171813965, 23.65302276611328, 6.593935489654541, 22.587732315063477, 9.380399703979492, 14.48095989227295, 17.22686767578125, 32.21725845336914, 17.748191833496094, 12.274953842163086, 20.457000732421875, 52.5960807800293, 33.42050552368164, 70.45079803466797, 49.39274597167969, 19.978965759277344, 10.84656810760498, 52.6836051940918, 23.43495750427246, 17.58973503112793, 15.719805717468262, 13.202948570251465, 13.821510314941406, 15.182348251342773, 12.140547752380371, 15.40833568572998, 15.455780029296875, 16.065357208251953, 13.326601028442383, 62.324161529541016, 20.75022315979004, 22.44709587097168, 15.14616584777832, 14.20239543914795, 32.60808563232422, 11.405390739440918, 10.486786842346191, 9.529726028442383, 8.622243881225586, 8.620163917541504, 8.614749908447266, 23.99965476989746, 7.691051483154297, 6.756893634796143, 5.829899311065674, 5.826569080352783, 5.823069095611572, 5.821617126464844, 5.780482292175293, 5.7759246826171875, 7.379811763763428, 4.888298511505127, 4.88376522064209, 4.8812255859375, 4.880906581878662, 4.878243923187256, 4.877127170562744, 4.861477375030518, 4.861054420471191, 30.749826431274414, 8.0020170211792, 12.355256080627441, 27.376955032348633, 9.265336990356445, 18.72532844543457, 31.822904586791992, 38.34086227416992, 14.620849609375, 21.31309700012207, 68.12630462646484, 19.089004516601562, 11.056746482849121, 17.327619552612305, 19.623098373413086, 30.610103607177734, 44.250301361083984, 27.880979537963867, 15.889823913574219, 14.077570915222168, 11.74488639831543, 13.517570495605469, 13.702946662902832, 12.549761772155762, 11.4971923828125, 11.544612884521484], \"Total\": [117.0, 63.0, 60.0, 50.0, 144.0, 104.0, 39.0, 46.0, 116.0, 65.0, 34.0, 50.0, 112.0, 43.0, 34.0, 61.0, 37.0, 48.0, 35.0, 52.0, 22.0, 23.0, 26.0, 21.0, 23.0, 33.0, 21.0, 28.0, 22.0, 30.0, 117.13654327392578, 46.85564422607422, 34.67099380493164, 21.553064346313477, 17.80510139465332, 15.930740356445312, 14.056510925292969, 12.182379722595215, 14.99268627166748, 11.245311737060547, 16.8680362701416, 11.244982719421387, 10.308321952819824, 10.30826473236084, 10.30822467803955, 10.308019638061523, 20.622705459594727, 9.371158599853516, 9.371121406555176, 24.362503051757812, 9.371061325073242, 8.434104919433594, 8.43397045135498, 8.433859825134277, 8.433819770812988, 7.496976375579834, 7.496996879577637, 7.496898651123047, 7.496815204620361, 7.496767997741699, 24.360488891601562, 34.65461349487305, 14.065398216247559, 11.250016212463379, 40.27652359008789, 12.18956184387207, 13.130125999450684, 20.60881996154785, 46.04152297973633, 30.89133644104004, 37.44535827636719, 24.349695205688477, 59.02217483520508, 52.667640686035156, 25.287609100341797, 112.8359146118164, 27.138206481933594, 38.35694885253906, 43.116451263427734, 39.28514099121094, 104.80628204345703, 185.87693786621094, 35.706573486328125, 64.74097442626953, 31.024614334106445, 33.87786865234375, 50.51470947265625, 14.968546867370605, 14.03314208984375, 13.097748756408691, 12.162334442138672, 60.79646682739258, 11.226879119873047, 9.356046676635742, 15.905451774597168, 8.420598983764648, 8.420438766479492, 8.420604705810547, 8.42052936553955, 22.453855514526367, 7.485174655914307, 6.549753665924072, 6.549751281738281, 5.6141357421875, 5.614095211029053, 5.61375617980957, 14.029556274414062, 24.323339462280273, 16.842741012573242, 28.080007553100586, 12.15859603881836, 12.176114082336426, 17.798656463623047, 11.239099502563477, 10.28779411315918, 8.418046951293945, 33.685997009277344, 43.05542755126953, 21.525728225708008, 104.80628204345703, 19.653799057006836, 52.481788635253906, 64.74097442626953, 116.41411590576172, 53.389991760253906, 42.08096694946289, 33.7966423034668, 18.71959114074707, 59.02217483520508, 50.83405685424805, 185.87693786621094, 144.40538024902344, 34.694862365722656, 61.65576171875, 48.78022003173828, 36.549774169921875, 39.674293518066406, 22.668970108032227, 21.724193572998047, 18.889205932617188, 16.999431610107422, 23.606388092041016, 10.384944915771484, 9.44035530090332, 7.551154136657715, 7.551090240478516, 7.550775051116943, 7.55059289932251, 7.550649166107178, 6.606326103210449, 6.6062541007995605, 6.6059465408325195, 6.60576057434082, 5.661457061767578, 5.6613287925720215, 24.535444259643555, 5.661219120025635, 5.661147594451904, 5.660852909088135, 8.489847183227539, 22.63469123840332, 7.544477939605713, 5.6591596603393555, 7.543216228485107, 30.155845642089844, 8.483951568603516, 29.224838256835938, 12.247814178466797, 19.795690536499023, 24.475292205810547, 50.83405685424805, 25.44536018371582, 16.959692001342773, 32.015838623046875, 112.8359146118164, 65.73316955566406, 185.87693786621094, 116.41411590576172, 34.773345947265625, 15.07430648803711, 144.40538024902344, 52.667640686035156, 33.87786865234375, 29.13580322265625, 22.589731216430664, 24.43764877319336, 29.152856826782227, 20.694183349609375, 46.04152297973633, 48.78022003173828, 64.74097442626953, 31.024614334106445, 63.451744079589844, 21.46277618408203, 23.32904052734375, 15.86485481262207, 14.931722640991211, 34.52965545654297, 12.132843971252441, 11.199982643127441, 10.266966819763184, 9.334087371826172, 9.334014892578125, 9.334094047546387, 26.13126564025879, 8.401115417480469, 7.468145847320557, 6.535205841064453, 6.535141468048096, 6.535142421722412, 6.535129070281982, 6.535168647766113, 6.535029411315918, 8.401777267456055, 5.602129936218262, 5.602088928222656, 5.602259635925293, 5.602120876312256, 5.602152347564697, 5.602109432220459, 5.601781368255615, 5.601912498474121, 37.35053634643555, 9.33565616607666, 14.936508178710938, 35.55082702636719, 11.215149879455566, 25.238040924072266, 48.59679412841797, 61.65576171875, 20.5544490814209, 32.74171829223633, 144.40538024902344, 29.885711669921875, 14.94556713104248, 27.12849998474121, 32.8153076171875, 65.73316955566406, 185.87693786621094, 116.41411590576172, 39.28514099121094, 34.773345947265625, 22.51036834716797, 38.35694885253906, 53.389991760253906, 42.08096694946289, 29.979324340820312, 48.78022003173828], \"Category\": [\"Default\", \"Default\", \"Default\", \"Default\", \"Default\", \"Default\", \"Default\", \"Default\", \"Default\", \"Default\", \"Default\", \"Default\", \"Default\", \"Default\", \"Default\", \"Default\", \"Default\", \"Default\", \"Default\", \"Default\", \"Default\", \"Default\", \"Default\", \"Default\", \"Default\", \"Default\", \"Default\", \"Default\", \"Default\", \"Default\", \"Topic1\", \"Topic1\", \"Topic1\", \"Topic1\", \"Topic1\", \"Topic1\", \"Topic1\", \"Topic1\", \"Topic1\", \"Topic1\", \"Topic1\", \"Topic1\", \"Topic1\", \"Topic1\", \"Topic1\", \"Topic1\", \"Topic1\", \"Topic1\", \"Topic1\", \"Topic1\", \"Topic1\", \"Topic1\", \"Topic1\", \"Topic1\", \"Topic1\", \"Topic1\", \"Topic1\", \"Topic1\", \"Topic1\", \"Topic1\", \"Topic1\", \"Topic1\", \"Topic1\", \"Topic1\", \"Topic1\", \"Topic1\", \"Topic1\", \"Topic1\", \"Topic1\", \"Topic1\", \"Topic1\", \"Topic1\", \"Topic1\", \"Topic1\", \"Topic1\", \"Topic1\", \"Topic1\", \"Topic1\", \"Topic1\", \"Topic1\", \"Topic1\", \"Topic1\", \"Topic1\", \"Topic1\", \"Topic1\", \"Topic1\", \"Topic2\", \"Topic2\", \"Topic2\", \"Topic2\", \"Topic2\", \"Topic2\", \"Topic2\", \"Topic2\", \"Topic2\", \"Topic2\", \"Topic2\", \"Topic2\", \"Topic2\", \"Topic2\", \"Topic2\", \"Topic2\", \"Topic2\", \"Topic2\", \"Topic2\", \"Topic2\", \"Topic2\", \"Topic2\", \"Topic2\", \"Topic2\", \"Topic2\", \"Topic2\", \"Topic2\", \"Topic2\", \"Topic2\", \"Topic2\", \"Topic2\", \"Topic2\", \"Topic2\", \"Topic2\", \"Topic2\", \"Topic2\", \"Topic2\", \"Topic2\", \"Topic2\", \"Topic2\", \"Topic2\", \"Topic2\", \"Topic2\", \"Topic2\", \"Topic2\", \"Topic2\", \"Topic2\", \"Topic2\", \"Topic2\", \"Topic2\", \"Topic3\", \"Topic3\", \"Topic3\", \"Topic3\", \"Topic3\", \"Topic3\", \"Topic3\", \"Topic3\", \"Topic3\", \"Topic3\", \"Topic3\", \"Topic3\", \"Topic3\", \"Topic3\", \"Topic3\", \"Topic3\", \"Topic3\", \"Topic3\", \"Topic3\", \"Topic3\", \"Topic3\", \"Topic3\", \"Topic3\", \"Topic3\", \"Topic3\", \"Topic3\", \"Topic3\", \"Topic3\", \"Topic3\", \"Topic3\", \"Topic3\", \"Topic3\", \"Topic3\", \"Topic3\", \"Topic3\", \"Topic3\", \"Topic3\", \"Topic3\", \"Topic3\", \"Topic3\", \"Topic3\", \"Topic3\", \"Topic3\", \"Topic3\", \"Topic3\", \"Topic3\", \"Topic3\", \"Topic3\", \"Topic3\", \"Topic3\", \"Topic3\", \"Topic3\", \"Topic3\", \"Topic3\", \"Topic3\", \"Topic3\", \"Topic4\", \"Topic4\", \"Topic4\", \"Topic4\", \"Topic4\", \"Topic4\", \"Topic4\", \"Topic4\", \"Topic4\", \"Topic4\", \"Topic4\", \"Topic4\", \"Topic4\", \"Topic4\", \"Topic4\", \"Topic4\", \"Topic4\", \"Topic4\", \"Topic4\", \"Topic4\", \"Topic4\", \"Topic4\", \"Topic4\", \"Topic4\", \"Topic4\", \"Topic4\", \"Topic4\", \"Topic4\", \"Topic4\", \"Topic4\", \"Topic4\", \"Topic4\", \"Topic4\", \"Topic4\", \"Topic4\", \"Topic4\", \"Topic4\", \"Topic4\", \"Topic4\", \"Topic4\", \"Topic4\", \"Topic4\", \"Topic4\", \"Topic4\", \"Topic4\", \"Topic4\", \"Topic4\", \"Topic4\", \"Topic4\", \"Topic4\", \"Topic4\", \"Topic4\", \"Topic4\", \"Topic4\", \"Topic4\", \"Topic4\"], \"logprob\": [30.0, 29.0, 28.0, 27.0, 26.0, 25.0, 24.0, 23.0, 22.0, 21.0, 20.0, 19.0, 18.0, 17.0, 16.0, 15.0, 14.0, 13.0, 12.0, 11.0, 10.0, 9.0, 8.0, 7.0, 6.0, 5.0, 4.0, 3.0, 2.0, 1.0, -3.0223000049591064, -3.943700075149536, -4.2581000328063965, -4.735799789428711, -4.932300090789795, -5.048900127410889, -5.180600166320801, -5.3317999839782715, -5.126999855041504, -5.4166998863220215, -5.0131001472473145, -5.421999931335449, -5.508999824523926, -5.509399890899658, -5.5100998878479, -5.51140022277832, -4.819799900054932, -5.612100124359131, -5.612400054931641, -4.657199859619141, -5.614799976348877, -5.726399898529053, -5.727200031280518, -5.729700088500977, -5.730100154876709, -5.855400085449219, -5.855599880218506, -5.856599807739258, -5.856900215148926, -5.857399940490723, -4.706299781799316, -4.395899772644043, -5.263999938964844, -5.478700160980225, -4.308700084686279, -5.416200160980225, -5.365099906921387, -5.005499839782715, -4.3821001052856445, -4.701300144195557, -4.554999828338623, -4.88730001449585, -4.241099834442139, -4.417200088500977, -4.920400142669678, -3.9223999977111816, -4.88640022277832, -4.707399845123291, -4.670400142669678, -4.73360013961792, -4.230899810791016, -4.028800010681152, -4.850299835205078, -4.729499816894531, -5.031799793243408, -5.020699977874756, -3.5262999534606934, -4.7758002281188965, -4.844099998474121, -4.916200160980225, -4.996600151062012, -3.3889999389648438, -5.082499980926514, -5.276100158691406, -4.752799987792969, -5.391300201416016, -5.392600059509277, -5.3927001953125, -5.393400192260742, -4.418099880218506, -5.520199775695801, -5.669300079345703, -5.6707000732421875, -5.846399784088135, -5.848100185394287, -5.8557000160217285, -4.9475998878479, -4.4116997718811035, -4.782800197601318, -4.2779998779296875, -5.1203999519348145, -5.123000144958496, -4.745999813079834, -5.206099987030029, -5.320300102233887, -5.521500110626221, -4.19189977645874, -4.0731000900268555, -4.685500144958496, -3.328700065612793, -4.776199817657471, -4.132599830627441, -4.11870002746582, -3.7908999919891357, -4.302000045776367, -4.479599952697754, -4.619500160217285, -4.959199905395508, -4.360799789428711, -4.536300182342529, -4.066100120544434, -4.344200134277344, -4.843999862670898, -4.769899845123291, -4.832600116729736, -4.941699981689453, -3.7929999828338623, -4.361299991607666, -4.405200004577637, -4.55109977722168, -4.660699844360352, -4.357999801635742, -5.184199810028076, -5.286099910736084, -5.527500152587891, -5.5278000831604, -5.530099868774414, -5.532299995422363, -5.53380012512207, -5.6757001876831055, -5.676400184631348, -5.678599834442139, -5.681099891662598, -5.8506999015808105, -5.8516998291015625, -4.385200023651123, -5.8520002365112305, -5.854899883270264, -5.86299991607666, -5.468900203704834, -4.4994001388549805, -5.6072998046875, -5.896500110626221, -5.67080020904541, -4.2866997718811035, -5.5640997886657715, -4.332799911499023, -5.211599826812744, -4.777400016784668, -4.603700160980225, -3.9776999950408936, -4.57390022277832, -4.942599773406982, -4.4319000244140625, -3.487600088119507, -3.940999984741211, -3.1953001022338867, -3.5504000186920166, -4.45550012588501, -5.066400051116943, -3.4858999252319336, -4.296000003814697, -4.582900047302246, -4.695300102233887, -4.869800090789795, -4.823999881744385, -4.730100154876709, -4.953700065612793, -4.7153000831604, -4.712200164794922, -4.673500061035156, -4.860400199890137, -3.3561999797821045, -4.455999851226807, -4.377399921417236, -4.7708001136779785, -4.835100173950195, -4.004000186920166, -5.0543999671936035, -5.138400077819824, -5.234099864959717, -5.334199905395508, -5.334400177001953, -5.335000038146973, -4.310500144958496, -5.448500156402588, -5.578000068664551, -5.725500106811523, -5.726099967956543, -5.7266998291015625, -5.726900100708008, -5.734000205993652, -5.734799861907959, -5.489799976348877, -5.901700019836426, -5.902599811553955, -5.90310001373291, -5.903200149536133, -5.90369987487793, -5.9039998054504395, -5.907199859619141, -5.907299995422363, -4.062600135803223, -5.40880012512207, -4.974400043487549, -4.178800106048584, -5.262199878692627, -4.558599948883057, -4.028299808502197, -3.8420000076293945, -4.806099891662598, -4.429200172424316, -3.267199993133545, -4.539400100708008, -5.0854997634887695, -4.636199951171875, -4.5117998123168945, -4.067200183868408, -3.698699951171875, -4.160600185394287, -4.722799777984619, -4.843900203704834, -5.025100231170654, -4.884500026702881, -4.8709001541137695, -4.958799839019775, -5.04640007019043, -5.042300224304199], \"loglift\": [30.0, 29.0, 28.0, 27.0, 26.0, 25.0, 24.0, 23.0, 22.0, 21.0, 20.0, 19.0, 18.0, 17.0, 16.0, 15.0, 14.0, 13.0, 12.0, 11.0, 10.0, 9.0, 8.0, 7.0, 6.0, 5.0, 4.0, 3.0, 2.0, 1.0, 1.1461999416351318, 1.1411000490188599, 1.1277999877929688, 1.125499963760376, 1.1201000213623047, 1.1146999597549438, 1.108199954032898, 1.100000023841858, 1.0972000360488892, 1.0951000452041626, 1.0932999849319458, 1.089900016784668, 1.089900016784668, 1.089400053024292, 1.0887999534606934, 1.087499976158142, 1.0857000350952148, 1.0821000337600708, 1.0817999839782715, 1.0815999507904053, 1.0793999433517456, 1.073199987411499, 1.0722999572753906, 1.0699000358581543, 1.0694999694824219, 1.061900019645691, 1.0618000030517578, 1.0607000589370728, 1.0604000091552734, 1.0599000453948975, 1.0325000286102295, 0.9904999732971191, 1.0240999460220337, 1.0326999425888062, 0.927299976348877, 1.0149999856948853, 0.9918000102043152, 0.900600016117096, 0.7202000021934509, 0.800000011920929, 0.7540000081062317, 0.8519999980926514, 0.6128000020980835, 0.550599992275238, 0.7810999751091003, 0.28349998593330383, 0.7444999814033508, 0.5774999856948853, 0.4975000023841858, 0.5273000001907349, 0.04879999905824661, -0.32199999690055847, 0.5062000155448914, 0.03189999982714653, 0.4652000069618225, 0.38830000162124634, 1.483199954032898, 1.4500999450683594, 1.4463000297546387, 1.4431999921798706, 1.4368000030517578, 1.4352999925613403, 1.430999994277954, 1.419600009918213, 1.4122999906539917, 1.4098000526428223, 1.4084999561309814, 1.4084999561309814, 1.4076999425888062, 1.4023000001907349, 1.3986999988555908, 1.3831000328063965, 1.381600022315979, 1.3601000308990479, 1.3583999872207642, 1.3509000539779663, 1.343000054359436, 1.3286999464035034, 1.3250999450683594, 1.3187999725341797, 1.3134000301361084, 1.309399962425232, 1.3066999912261963, 1.3063000440597534, 1.280500054359436, 1.2799999713897705, 1.2228000164031982, 1.0961999893188477, 1.1770999431610107, 0.9509999752044678, 1.177299976348877, 0.8388000130653381, 0.6427000164985657, 0.38370001316070557, 0.6521999835968018, 0.7127000093460083, 0.7919999957084656, 1.0429999828338623, 0.49309998750686646, 0.46700000762939453, -0.3594000041484833, -0.38499999046325684, 0.5411999821662903, 0.04039999842643738, 0.211899995803833, 0.391400009393692, 1.4580999612808228, 1.4494999647140503, 1.448199987411499, 1.442199945449829, 1.4378999471664429, 1.4122999906539917, 1.4072999954223633, 1.4006999731063843, 1.382599949836731, 1.3824000358581543, 1.3801000118255615, 1.3779000043869019, 1.3762999773025513, 1.3681000471115112, 1.367400050163269, 1.3652000427246094, 1.3628000020980835, 1.3473999500274658, 1.346500039100647, 1.346500039100647, 1.3460999727249146, 1.3432999849319458, 1.3351999521255493, 1.3241000175476074, 1.3128999471664429, 1.3036999702453613, 1.3020999431610107, 1.2403000593185425, 1.238700032234192, 1.229599952697754, 1.2239999771118164, 1.214900016784668, 1.1690000295639038, 1.1303999423980713, 1.0255000591278076, 1.121399998664856, 1.1583000421524048, 1.0336999893188477, 0.7182999849319458, 0.8051999807357788, 0.5113999843597412, 0.6243000030517578, 0.9273999929428101, 1.152500033378601, 0.4733000099658966, 0.6718000173568726, 0.826200008392334, 0.8646000027656555, 0.944599986076355, 0.9117000102996826, 0.829200029373169, 0.9483000040054321, 0.3869999945163727, 0.33230000734329224, 0.08789999783039093, 0.6366000175476074, 1.4254000186920166, 1.409500002861023, 1.4048000574111938, 1.3969000577926636, 1.3932000398635864, 1.3860000371932983, 1.381500005722046, 1.377500057220459, 1.3688000440597534, 1.3639999628067017, 1.363700032234192, 1.3631000518798828, 1.358199954032898, 1.3550000190734863, 1.3431999683380127, 1.3291000127792358, 1.3285000324249268, 1.3279000520706177, 1.3277000188827515, 1.3206000328063965, 1.3198000192642212, 1.313599944114685, 1.3070000410079956, 1.3061000108718872, 1.3055000305175781, 1.3055000305175781, 1.304900050163269, 1.3047000169754028, 1.3015999794006348, 1.3013999462127686, 1.2488000392913818, 1.289199948310852, 1.253600001335144, 1.1820000410079956, 1.2523000240325928, 1.1447999477386475, 1.0198999643325806, 0.9682000279426575, 1.1026999950408936, 1.0140000581741333, 0.6919999718666077, 0.9950000047683716, 1.1418999433517456, 0.9950000047683716, 0.929099977016449, 0.6790000200271606, 0.008100000210106373, 0.014100000262260437, 0.538100004196167, 0.5389999747276306, 0.7926999926567078, 0.4004000127315521, 0.08330000191926956, 0.23340000212192535, 0.48489999771118164, 0.002199999988079071]}, \"token.table\": {\"Topic\": [3, 4, 4, 1, 2, 4, 1, 2, 4, 2, 4, 2, 1, 2, 4, 2, 3, 1, 2, 3, 1, 2, 3, 4, 1, 2, 3, 4, 2, 4, 2, 3, 4, 3, 1, 3, 4, 2, 4, 2, 3, 4, 1, 3, 1, 2, 3, 4, 3, 4, 1, 1, 2, 3, 4, 1, 3, 1, 3, 4, 3, 4, 4, 2, 3, 4, 4, 4, 2, 3, 4, 2, 4, 1, 2, 3, 4, 4, 2, 4, 1, 3, 4, 1, 2, 4, 2, 4, 1, 3, 4, 2, 1, 4, 1, 1, 3, 1, 1, 3, 1, 4, 1, 2, 4, 1, 3, 4, 1, 4, 3, 2, 4, 4, 3, 4, 2, 2, 1, 1, 2, 3, 4, 2, 3, 4, 4, 1, 2, 3, 4, 1, 4, 1, 1, 1, 2, 2, 3, 4, 1, 3, 4, 2, 3, 4, 2, 3, 4, 1, 1, 3, 2, 3, 1, 1, 2, 1, 1, 3, 3, 2, 1, 2, 4, 1, 2, 3, 4, 3, 1, 3, 4, 1, 3, 1, 4, 1, 1, 2, 3, 2, 3, 4, 2, 4, 4, 3, 1, 2, 3, 1, 2, 1, 1, 1, 2, 3, 1, 2, 4, 3, 1, 2, 1, 2, 1, 3, 4, 2, 4, 2, 3, 1, 2, 3, 4, 1, 3, 4, 1, 1, 2, 4, 1, 2, 3, 4, 1, 2, 3, 3, 2, 3, 4, 3, 4, 1, 2, 4, 1, 2, 3, 3, 4, 1, 4, 1, 3, 1, 4, 1, 2, 3, 4, 4, 3, 2, 4, 1, 2, 1, 2, 4, 1, 3, 1, 2, 3, 2, 3, 2, 3, 2, 3, 2, 3, 4, 2, 3, 4, 3, 4, 2, 2, 3, 4, 1, 2, 3, 4, 2, 4, 1, 2, 4, 4, 1, 3, 2, 3, 4, 1, 2, 3, 4, 1, 1, 2, 3, 4, 2, 1, 1, 2, 3, 2, 1, 3, 3, 2, 4, 3, 4, 1, 3, 1, 2, 4, 3, 2, 4, 2, 4, 4, 2, 3, 1, 2, 3, 1, 3, 3, 4, 1, 2, 4, 2, 1, 2, 1, 1, 3, 1, 2, 4, 1, 1], \"Freq\": [0.8835234045982361, 0.8925241827964783, 0.9181132316589355, 0.6722660064697266, 0.27681541442871094, 0.03954505920410156, 0.836829423904419, 0.028856186196208, 0.115424744784832, 0.8906090259552002, 0.9181094169616699, 0.9351819157600403, 0.7945075035095215, 0.14897015690803528, 0.04965671896934509, 0.8212800621986389, 0.1642560213804245, 0.32516226172447205, 0.6735503673553467, 0.927057147026062, 0.13111071288585663, 0.43079236149787903, 0.16857092082500458, 0.26222142577171326, 0.22595594823360443, 0.15601719915866852, 0.3765932619571686, 0.23671576380729675, 0.07653667032718658, 0.918440043926239, 0.9500505328178406, 0.015760008245706558, 0.9771205186843872, 0.9830042719841003, 0.17689000070095062, 0.7075600028038025, 0.11792667210102081, 0.9375544786453247, 0.049344971776008606, 0.015213019214570522, 0.5020296573638916, 0.4716036021709442, 0.2750992774963379, 0.7073981165885925, 0.04442397505044937, 0.04442397505044937, 0.39981576800346375, 0.5330876708030701, 0.39615657925605774, 0.6094716787338257, 0.9817386865615845, 0.013849899172782898, 0.15234889090061188, 0.3670223355293274, 0.47089657187461853, 0.9024114608764648, 0.08203740417957306, 0.9485619068145752, 0.9082203507423401, 0.8925176858901978, 0.6945779919624329, 0.2860027253627777, 0.918129026889801, 0.11886817961931229, 0.11886817961931229, 0.7528318166732788, 0.9454861283302307, 0.9784381985664368, 0.5030085444450378, 0.38465359807014465, 0.11835495382547379, 0.8553370833396912, 0.14255619049072266, 0.1105848103761673, 0.073723204433918, 0.147446408867836, 0.6266472339630127, 0.8925141096115112, 0.9619447588920593, 0.8925191164016724, 0.9337071776390076, 0.0891651064157486, 0.8024859428405762, 0.08222555369138718, 0.8633682727813721, 0.04111277684569359, 0.9500511884689331, 0.8925523161888123, 0.1372881382703781, 0.5491525530815125, 0.3432203233242035, 0.9161880016326904, 0.6632715463638306, 0.3316357731819153, 0.9603935480117798, 0.8892855048179626, 0.9629324078559875, 0.9781854152679443, 0.837768018245697, 0.152321457862854, 0.9700899720191956, 0.9181150197982788, 0.5345532298088074, 0.05090983211994171, 0.4072786569595337, 0.3086623251438141, 0.020577488467097282, 0.658479630947113, 0.9604035019874573, 0.9642078280448914, 0.9270725846290588, 0.9500692486763, 0.964207112789154, 0.8928585052490234, 0.8831648826599121, 0.9376011490821838, 0.8906692266464233, 0.935294508934021, 0.9547825455665588, 0.23058168590068817, 0.3746952414512634, 0.25940439105033875, 0.14411355555057526, 0.9044316411018372, 0.9082725644111633, 0.8924970030784607, 0.9522545337677002, 0.0762169137597084, 0.5144641995429993, 0.2286507487297058, 0.17148806154727936, 0.9806468486785889, 0.02884255349636078, 0.9337298274040222, 0.9485573768615723, 0.2322801798582077, 0.7432965636253357, 0.033161066472530365, 0.7958655953407288, 0.16580532491207123, 0.08151472359895706, 0.8559046387672424, 0.04075736179947853, 0.044179972261190414, 0.839419424533844, 0.08835994452238083, 0.15271037817001343, 0.1832524538040161, 0.6413835883140564, 0.941575825214386, 0.970099151134491, 0.9270794987678528, 0.8427602648735046, 0.16855204105377197, 0.9485449194908142, 0.9817602038383484, 0.008537045679986477, 0.9337194561958313, 0.472284734249115, 0.531320333480835, 0.883259117603302, 0.9898107051849365, 0.2078014761209488, 0.7718340754508972, 0.02968592569231987, 0.5102460980415344, 0.27831605076789856, 0.13915802538394928, 0.09277201443910599, 0.8832131624221802, 0.04092046618461609, 0.5728865265846252, 0.3682841956615448, 0.5506227016448975, 0.4367007911205292, 0.2007284164428711, 0.7360041737556458, 0.9603973031044006, 0.32436954975128174, 0.41704654693603516, 0.24713869392871857, 0.28993654251098633, 0.5798730850219727, 0.09664551168680191, 0.8315467834472656, 0.11879239976406097, 0.8925209641456604, 0.8831849098205566, 0.5321149230003357, 0.11202418804168701, 0.3640786111354828, 0.9440737366676331, 0.041046686470508575, 0.9248383045196533, 0.9743394255638123, 0.11874552071094513, 0.8312186002731323, 0.9082303047180176, 0.9485395550727844, 0.059283722192049026, 0.9739974737167358, 0.8832020163536072, 0.0628715232014656, 0.9430728554725647, 0.776366651058197, 0.19409166276454926, 0.24987632036209106, 0.62469083070755, 0.09370362013578415, 0.10711620002985, 0.8569296002388, 0.11786960065364838, 0.8250871896743774, 0.16400089859962463, 0.26650145649909973, 0.3075016736984253, 0.24600134789943695, 0.7121737599372864, 0.032371535897254944, 0.25897228717803955, 0.9700953960418701, 0.7392289638519287, 0.16427309811115265, 0.08213654905557632, 0.483487069606781, 0.03223247081041336, 0.4190221428871155, 0.06446494162082672, 0.034217469394207, 0.1710873395204544, 0.7870017886161804, 0.9412079453468323, 0.3335632085800171, 0.2668505907058716, 0.36691954731941223, 0.96666419506073, 0.9181042313575745, 0.6676394939422607, 0.13352790474891663, 0.1869390606880188, 0.5760546922683716, 0.3727412521839142, 0.05082835257053375, 0.7952836751937866, 0.1325472742319107, 0.028960613533854485, 0.9557002186775208, 0.9337097406387329, 0.9529252052307129, 0.2432563304901123, 0.7297689914703369, 0.008590023964643478, 0.3264209032058716, 0.42091116309165955, 0.2405206561088562, 0.9373143315315247, 0.9270184636116028, 0.119022436439991, 0.8331570625305176, 0.8620516657829285, 0.08210016041994095, 0.32440802454948425, 0.5820261836051941, 0.09541412442922592, 0.13256944715976715, 0.7954166531562805, 0.06860391050577164, 0.3773215115070343, 0.5145293474197388, 0.3540933132171631, 0.6294992566108704, 0.26535215973854065, 0.7297185063362122, 0.8906154632568359, 0.9270105957984924, 0.13386689126491547, 0.026773376390337944, 0.8299747109413147, 0.9500590562820435, 0.22502993047237396, 0.7594760060310364, 0.9704896211624146, 0.8925732374191284, 0.890719473361969, 0.6410396695137024, 0.10683993995189667, 0.21367987990379333, 0.10683757811784744, 0.8190881013870239, 0.07122505456209183, 0.035612527281045914, 0.13390010595321655, 0.8034006357192993, 0.14597176015377045, 0.22706718742847443, 0.6163251996040344, 0.9642152786254883, 0.8888875842094421, 0.08888876438140869, 0.8007758855819702, 0.08897510170936584, 0.918113112449646, 0.16415970027446747, 0.32831940054893494, 0.2188795953989029, 0.2735995054244995, 0.9337886571884155, 0.41653403639793396, 0.03544970601797104, 0.4697085916996002, 0.07976184040307999, 0.9160653352737427, 0.9701184630393982, 0.6515857577323914, 0.021719524636864662, 0.3257928788661957, 0.9263784289360046, 0.9213145971298218, 0.0484902448952198, 0.9533539414405823, 0.3346080482006073, 0.6357553005218506, 0.5751531720161438, 0.4026072025299072, 0.042361415922641754, 0.931951105594635, 0.23763711750507355, 0.45151054859161377, 0.3089282512664795, 0.908298134803772, 0.7776205539703369, 0.19440513849258423, 0.8224633932113647, 0.1644926816225052, 0.9430306553840637, 0.11778774857521057, 0.8245142698287964, 0.22133950889110565, 0.17707160115242004, 0.5754827260971069, 0.2525802254676819, 0.7072246074676514, 0.7348250150680542, 0.1632944494485855, 0.08907156437635422, 0.8907155990600586, 0.9066299796104431, 0.916064977645874, 0.2544037401676178, 0.7123304605484009, 0.933735728263855, 0.8531575202941895, 0.07109645754098892, 0.547488808631897, 0.0782126858830452, 0.36499252915382385, 0.948529839515686, 0.9029434323310852], \"Term\": [\"acero\", \"acierto\", \"adecuado\", \"ahora\", \"ahora\", \"ahora\", \"amazon\", \"amazon\", \"amazon\", \"anuncio\", \"apenas\", \"asi\", \"as\\u00ed\", \"as\\u00ed\", \"as\\u00ed\", \"aun\", \"aun\", \"aunque\", \"aunque\", \"ayuda\", \"bastante\", \"bastante\", \"bastante\", \"bastante\", \"bien\", \"bien\", \"bien\", \"bien\", \"bonita\", \"bonita\", \"bonitas\", \"bonito\", \"bonito\", \"bonitos\", \"botones\", \"botones\", \"botones\", \"buen\", \"buen\", \"buena\", \"buena\", \"buena\", \"bueno\", \"bueno\", \"cable\", \"cable\", \"cable\", \"cable\", \"cadena\", \"cadena\", \"caja\", \"calidad\", \"calidad\", \"calidad\", \"calidad\", \"casa\", \"casa\", \"castellano\", \"cerrar\", \"certificado\", \"cierre\", \"cierre\", \"claro\", \"colgante\", \"colgante\", \"colgante\", \"collar\", \"color\", \"compra\", \"compra\", \"compra\", \"compre\", \"compre\", \"compr\\u00e9\", \"compr\\u00e9\", \"compr\\u00e9\", \"compr\\u00e9\", \"conjunto\", \"contento\", \"cuello\", \"cuenta\", \"cuidado\", \"cuidado\", \"cumple\", \"cumple\", \"cumple\", \"c\\u00f3mo\", \"debido\", \"demasiado\", \"demasiado\", \"demasiado\", \"descripci\\u00f3n\", \"despu\\u00e9s\", \"despu\\u00e9s\", \"devoluci\\u00f3n\", \"devolver\", \"devuelto\", \"dice\", \"dinero\", \"dinero\", \"disco\", \"dorado\", \"dos\", \"dos\", \"dos\", \"d\\u00eda\", \"d\\u00eda\", \"d\\u00eda\", \"edici\\u00f3n\", \"elegante\", \"elegantes\", \"encanta\", \"encantada\", \"encant\\u00f3\", \"entra\", \"entregado\", \"enviaron\", \"envio\", \"espa\\u00f1ol\", \"esperaba\", \"esperaba\", \"esperaba\", \"esperaba\", \"expectativas\", \"fan\", \"fea\", \"fino\", \"foto\", \"foto\", \"foto\", \"foto\", \"funciona\", \"funciona\", \"funcionan\", \"genial\", \"gracias\", \"gracias\", \"grande\", \"grande\", \"grande\", \"grandes\", \"grandes\", \"grandes\", \"gusta\", \"gusta\", \"gusta\", \"gustado\", \"gustado\", \"gustado\", \"hijo\", \"historia\", \"hora\", \"igual\", \"igual\", \"italiano\", \"juego\", \"juego\", \"jugando\", \"jugar\", \"jugar\", \"largo\", \"llegado\", \"llego\", \"llego\", \"llego\", \"lleg\\u00f3\", \"lleg\\u00f3\", \"lleg\\u00f3\", \"lleg\\u00f3\", \"llevas\", \"mala\", \"mala\", \"mala\", \"mando\", \"mando\", \"mandos\", \"mandos\", \"manera\", \"mas\", \"mas\", \"mas\", \"material\", \"material\", \"material\", \"materiales\", \"materiales\", \"media\", \"medio\", \"mejor\", \"mejor\", \"mejor\", \"menos\", \"menos\", \"mes\", \"momento\", \"muchas\", \"muchas\", \"m\\u00f3viles\", \"ning\\u00fan\", \"ning\\u00fan\", \"ni\\u00f1as\", \"ni\\u00f1os\", \"nuevo\", \"nuevo\", \"nunca\", \"nunca\", \"original\", \"original\", \"original\", \"pandora\", \"pandora\", \"pantalla\", \"pantalla\", \"parece\", \"parece\", \"parece\", \"parece\", \"parte\", \"parte\", \"parte\", \"pc\", \"pedido\", \"pedido\", \"pedido\", \"pena\", \"pena\", \"pena\", \"pena\", \"pendientes\", \"pendientes\", \"pendientes\", \"peque\\u00f1a\", \"peque\\u00f1o\", \"peque\\u00f1o\", \"peque\\u00f1o\", \"peque\\u00f1os\", \"perdi\\u00f3\", \"perfectamente\", \"perfectamente\", \"perfectamente\", \"perfecto\", \"perfecto\", \"perfecto\", \"pesan\", \"pesan\", \"plata\", \"plata\", \"play\", \"pl\\u00e1stico\", \"pone\", \"pone\", \"precio\", \"precio\", \"precio\", \"precio\", \"precioso\", \"preciosos\", \"presentaci\\u00f3n\", \"presentaci\\u00f3n\", \"problema\", \"problema\", \"producto\", \"producto\", \"producto\", \"productos\", \"productos\", \"ps\", \"ps\", \"ps\", \"puede\", \"puede\", \"pues\", \"pues\", \"puesta\", \"puestos\", \"pulsera\", \"pulsera\", \"pulsera\", \"punto\", \"queda\", \"queda\", \"quedan\", \"rapidez\", \"rapido\", \"recomendable\", \"recomendable\", \"recomendable\", \"recomiendo\", \"recomiendo\", \"recomiendo\", \"recomiendo\", \"regalar\", \"regalar\", \"regalo\", \"regalo\", \"regalo\", \"rompi\\u00f3\", \"rota\", \"rota\", \"saga\", \"saga\", \"seg\\u00fan\", \"ser\", \"ser\", \"ser\", \"ser\", \"servicio\", \"si\", \"si\", \"si\", \"si\", \"sistema\", \"sitio\", \"solo\", \"solo\", \"solo\", \"sonido\", \"switch\", \"switch\", \"s\\u00f3lo\", \"tal\", \"tal\", \"tama\\u00f1o\", \"tama\\u00f1o\", \"tan\", \"tan\", \"tiempo\", \"tiempo\", \"tiempo\", \"tienda\", \"toda\", \"toda\", \"todav\\u00eda\", \"todav\\u00eda\", \"uso\", \"utilizar\", \"utilizar\", \"va\", \"va\", \"va\", \"vale\", \"vale\", \"van\", \"van\", \"ve\", \"ve\", \"veces\", \"ven\", \"vendedor\", \"vendedor\", \"venia\", \"versi\\u00f3n\", \"versi\\u00f3n\", \"viene\", \"viene\", \"viene\", \"voy\", \"xbox\"]}, \"R\": 30, \"lambda.step\": 0.01, \"plot.opts\": {\"xlab\": \"PC1\", \"ylab\": \"PC2\"}, \"topic.order\": [1, 2, 3, 4]};\n",
       "\n",
       "function LDAvis_load_lib(url, callback){\n",
       "  var s = document.createElement('script');\n",
       "  s.src = url;\n",
       "  s.async = true;\n",
       "  s.onreadystatechange = s.onload = callback;\n",
       "  s.onerror = function(){console.warn(\"failed to load library \" + url);};\n",
       "  document.getElementsByTagName(\"head\")[0].appendChild(s);\n",
       "}\n",
       "\n",
       "if(typeof(LDAvis) !== \"undefined\"){\n",
       "   // already loaded: just create the visualization\n",
       "   !function(LDAvis){\n",
       "       new LDAvis(\"#\" + \"ldavis_el368818091542206164939832830\", ldavis_el368818091542206164939832830_data);\n",
       "   }(LDAvis);\n",
       "}else if(typeof define === \"function\" && define.amd){\n",
       "   // require.js is available: use it to load d3/LDAvis\n",
       "   require.config({paths: {d3: \"https://cdnjs.cloudflare.com/ajax/libs/d3/3.5.5/d3.min\"}});\n",
       "   require([\"d3\"], function(d3){\n",
       "      window.d3 = d3;\n",
       "      LDAvis_load_lib(\"https://cdn.rawgit.com/bmabey/pyLDAvis/files/ldavis.v1.0.0.js\", function(){\n",
       "        new LDAvis(\"#\" + \"ldavis_el368818091542206164939832830\", ldavis_el368818091542206164939832830_data);\n",
       "      });\n",
       "    });\n",
       "}else{\n",
       "    // require.js not available: dynamically load d3 & LDAvis\n",
       "    LDAvis_load_lib(\"https://cdnjs.cloudflare.com/ajax/libs/d3/3.5.5/d3.min.js\", function(){\n",
       "         LDAvis_load_lib(\"https://cdn.rawgit.com/bmabey/pyLDAvis/files/ldavis.v1.0.0.js\", function(){\n",
       "                 new LDAvis(\"#\" + \"ldavis_el368818091542206164939832830\", ldavis_el368818091542206164939832830_data);\n",
       "            })\n",
       "         });\n",
       "}\n",
       "</script>"
      ],
      "text/plain": [
       "<IPython.core.display.HTML object>"
      ]
     },
     "execution_count": 7,
     "metadata": {},
     "output_type": "execute_result"
    }
   ],
   "source": [
    "lda_display = pyLDAvis.gensim.prepare(model, corpus, dictionary, sort_topics=False)\n",
    "pyLDAvis.display(lda_display)\n",
    "# pyLDAvis.save_html(lda_display, 'lda.html')"
   ]
  },
  {
   "cell_type": "code",
   "execution_count": null,
   "metadata": {},
   "outputs": [],
   "source": []
  }
 ],
 "metadata": {
  "kernelspec": {
   "display_name": "Python 3",
   "language": "python",
   "name": "python3"
  },
  "language_info": {
   "codemirror_mode": {
    "name": "ipython",
    "version": 3
   },
   "file_extension": ".py",
   "mimetype": "text/x-python",
   "name": "python",
   "nbconvert_exporter": "python",
   "pygments_lexer": "ipython3",
   "version": "3.7.6"
  }
 },
 "nbformat": 4,
 "nbformat_minor": 2
}
